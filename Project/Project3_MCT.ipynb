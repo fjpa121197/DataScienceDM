{
  "nbformat": 4,
  "nbformat_minor": 0,
  "metadata": {
    "colab": {
      "name": "Project3_MCT.ipynb",
      "provenance": [],
      "authorship_tag": "ABX9TyNpmQ2Th8nuIY+Us1agvALP",
      "include_colab_link": true
    },
    "kernelspec": {
      "name": "python3",
      "display_name": "Python 3"
    }
  },
  "cells": [
    {
      "cell_type": "markdown",
      "metadata": {
        "id": "view-in-github",
        "colab_type": "text"
      },
      "source": [
        "<a href=\"https://colab.research.google.com/github/fjpa121197/DataScienceDM/blob/master/Project/Project3_MCT.ipynb\" target=\"_parent\"><img src=\"https://colab.research.google.com/assets/colab-badge.svg\" alt=\"Open In Colab\"/></a>"
      ]
    },
    {
      "cell_type": "code",
      "metadata": {
        "id": "LHko3Yz9ZwzN",
        "colab_type": "code",
        "colab": {}
      },
      "source": [
        "import pandas as pd\n",
        "import numpy as np\n",
        "from sklearn import tree\n",
        "from sklearn.model_selection import train_test_split\n",
        "from sklearn.model_selection import KFold, cross_val_score"
      ],
      "execution_count": 0,
      "outputs": []
    },
    {
      "cell_type": "code",
      "metadata": {
        "id": "zmErpJKPZ9zB",
        "colab_type": "code",
        "colab": {}
      },
      "source": [
        "data = pd.read_csv(\"https://raw.githubusercontent.com/fjpa121197/DataScienceDM/master/Project/data_mtc.txt\", sep=\" \", header=None,names=[\"cell_0\", \"cell_1\", \"cell_2\", \"cell_3\", \"cell_4\", \"cell_5\", \"cell_6\", \"cell_7\", \"cell_8\", \"player\", \"player_action\"])"
      ],
      "execution_count": 0,
      "outputs": []
    },
    {
      "cell_type": "code",
      "metadata": {
        "id": "cKyu8nYaaKPT",
        "colab_type": "code",
        "colab": {
          "base_uri": "https://localhost:8080/",
          "height": 51
        },
        "outputId": "59985495-0ebc-4756-a332-4ed1ae80b2f0"
      },
      "source": [
        "data_x = data.drop(['player_action'],axis = 1)\n",
        "data_y = data['player_action']\n",
        "x_valuestr, x_valuests, y_valuestr, y_valuests = train_test_split(data_x,data_y,test_size=0.20,random_state=1234)\n",
        "\n",
        "tree = tree.DecisionTreeClassifier()\n",
        "tree.fit(x_valuestr,y_valuestr)\n",
        "score_tree = cross_val_score(tree,x_valuestr,y_valuestr,cv=10,n_jobs=-1)\n",
        "print('Average accuracy:', np.mean(score_tree))\n",
        "print(score_tree.std())"
      ],
      "execution_count": 40,
      "outputs": [
        {
          "output_type": "stream",
          "text": [
            "Average accuracy: 0.7194444444444443\n",
            "0.030460711388140726\n"
          ],
          "name": "stdout"
        }
      ]
    },
    {
      "cell_type": "code",
      "metadata": {
        "id": "cOeUlYa9g-ix",
        "colab_type": "code",
        "colab": {}
      },
      "source": [
        ""
      ],
      "execution_count": 0,
      "outputs": []
    }
  ]
}