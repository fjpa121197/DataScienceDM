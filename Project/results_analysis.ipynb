{
  "nbformat": 4,
  "nbformat_minor": 0,
  "metadata": {
    "colab": {
      "name": "results_analysis.ipynb",
      "provenance": [],
      "authorship_tag": "ABX9TyPVpnpOqlUBv33NBZE0Z68P",
      "include_colab_link": true
    },
    "kernelspec": {
      "name": "python3",
      "display_name": "Python 3"
    }
  },
  "cells": [
    {
      "cell_type": "markdown",
      "metadata": {
        "id": "view-in-github",
        "colab_type": "text"
      },
      "source": [
        "<a href=\"https://colab.research.google.com/github/fjpa121197/DataScienceDM/blob/master/Project/results_analysis.ipynb\" target=\"_parent\"><img src=\"https://colab.research.google.com/assets/colab-badge.svg\" alt=\"Open In Colab\"/></a>"
      ]
    },
    {
      "cell_type": "code",
      "metadata": {
        "id": "NXIAg1fGa1Yj",
        "colab_type": "code",
        "colab": {
          "base_uri": "https://localhost:8080/",
          "height": 71
        },
        "outputId": "f14912cb-29a4-4a1a-eee1-9cc0b0fb0f06"
      },
      "source": [
        "#Import libraries\n",
        "import matplotlib.pyplot as plt\n",
        "import numpy as np\n",
        "import pandas as pd\n",
        "import random #https://pynative.com/python-random-choice/\n",
        "import seaborn as sns"
      ],
      "execution_count": 20,
      "outputs": [
        {
          "output_type": "stream",
          "text": [
            "/usr/local/lib/python3.6/dist-packages/statsmodels/tools/_testing.py:19: FutureWarning: pandas.util.testing is deprecated. Use the functions in the public API at pandas.testing instead.\n",
            "  import pandas.util.testing as tm\n"
          ],
          "name": "stderr"
        }
      ]
    },
    {
      "cell_type": "code",
      "metadata": {
        "id": "qREZSHdBO57W",
        "colab_type": "code",
        "colab": {}
      },
      "source": [
        "#Load results from github repositary\n",
        "df_all = pd.read_csv('https://raw.githubusercontent.com/fjpa121197/DataScienceDM/master/Project/results_all.csv')\n",
        "df_mcts = pd.read_csv('https://raw.githubusercontent.com/fjpa121197/DataScienceDM/master/Project/results_mcts.csv')\n",
        "df_trees = pd.read_csv('https://raw.githubusercontent.com/fjpa121197/DataScienceDM/master/Project/results_tree_tree.csv')"
      ],
      "execution_count": 0,
      "outputs": []
    },
    {
      "cell_type": "markdown",
      "metadata": {
        "id": "DjAIhCUxZWtx",
        "colab_type": "text"
      },
      "source": [
        "##FIRST ANALYSIS - MCTS default results"
      ]
    },
    {
      "cell_type": "code",
      "metadata": {
        "id": "gIjIxqxCPaM7",
        "colab_type": "code",
        "colab": {
          "base_uri": "https://localhost:8080/",
          "height": 299
        },
        "outputId": "364bf18c-33f8-4970-b4fb-01dc9bd0f06e"
      },
      "source": [
        "##Lets first take a look at the results using the default random choice in MCTS code\n",
        "##We want to check how many wins we got (either player 1 or 2) and ties\n",
        "df_mcts['win_percentage'] = (df_mcts['wins'])/(df_mcts['wins'] + df_mcts['ties'])\n",
        "df_mcts['draw_percentage'] = (df_mcts['ties'])/(df_mcts['ties'] + df_mcts['wins'])\n",
        "\n",
        "#print(df_mcts) #Uncomment to see dataframe\n",
        "\n",
        "#Lets look at a graph to see the percentage of wins and ties\n",
        "plt.plot(df_mcts.iteration,df_mcts.win_percentage)\n",
        "plt.plot(df_mcts.iteration,df_mcts.draw_percentage)\n",
        "plt.legend(['% of wins', '% of draws'], loc='best')\n",
        "plt.savefig(\"graph_default_mcts.png\")\n",
        "plt.show()\n",
        "\n",
        "mean_current_ties = np.mean(df_mcts.values.T[2])\n",
        "mean_current_wins = np.mean(df_mcts.values.T[1])\n",
        "print(\"The mean number of ties (out of 500 games) is: \" + str(int(mean_current_ties)))\n",
        "print(\"The mean number of times that an agent wins (out of 500 games) is \" + str(int(mean_current_wins)))"
      ],
      "execution_count": 64,
      "outputs": [
        {
          "output_type": "display_data",
          "data": {
            "image/png": "[encoded data removed]",
            "text/plain": [
              "<Figure size 432x288 with 1 Axes>"
            ]
          },
          "metadata": {
            "tags": [],
            "needs_background": "light"
          }
        },
        {
          "output_type": "stream",
          "text": [
            "The mean of number of ties (out of 500 games) is: 441\n",
            "The mean number that an agent wins (out of 500 games) is 58\n"
          ],
          "name": "stdout"
        }
      ]
    },
    {
      "cell_type": "code",
      "metadata": {
        "id": "rHgceanlTonV",
        "colab_type": "code",
        "colab": {}
      },
      "source": [
        "##Define function to perform bootstrap. In lab 2, we make our own, so i will use that one here.\n",
        "def bootstrap_mean_ci(sample,sample_size,n_iterations,ci):\n",
        "\n",
        "  bst = np.empty(shape=(n_iterations,sample_size))#create a (n_iterations x sample_size array)\n",
        "  #randomly filled the arrays\n",
        "  for x in range(n_iterations):\n",
        "    for y in range(sample_size):\n",
        "      bst[x][y] = random.choice(sample)\n",
        "  #Get the mean of each sample\n",
        "  data_mean_all = []\n",
        "  for x in range(bst.shape[0]):\n",
        "    data_mean_all.append(np.mean(bst[x]))\n",
        "    \n",
        "  data_mean_all = np.sort(data_mean_all)\n",
        "  data_mean = np.mean(data_mean_all)\n",
        "\n",
        "  percentile_low = np.percentile(data_mean_all,((100-ci)/2))\n",
        "  percentile_high = np.percentile(data_mean_all,(100-((100-ci)/2)))\n",
        "\n",
        "  last_array= np.where(data_mean_all > percentile_low,data_mean_all,-1)\n",
        "  last_array = np.where(last_array < percentile_high,last_array,-1)\n",
        "  last_array = np.sort(last_array)\n",
        "  i = 0\n",
        "  while i > -1:\n",
        "    if last_array[i] != -1:\n",
        "      lower = last_array[i]\n",
        "      break\n",
        "    i += 1\n",
        "  upper = last_array[-1]\n",
        "\n",
        "  data_mean = 0\n",
        "  count = 0\n",
        "  for idx,x in enumerate(last_array):\n",
        "    if last_array[idx] != -1:\n",
        "      count += 1\n",
        "      data_mean = data_mean + last_array[idx]\n",
        "\n",
        "  data_mean = data_mean/count\n",
        "\n",
        "  return data_mean,lower,upper"
      ],
      "execution_count": 0,
      "outputs": []
    },
    {
      "cell_type": "code",
      "metadata": {
        "id": "hVygorTfPaZy",
        "colab_type": "code",
        "colab": {
          "base_uri": "https://localhost:8080/",
          "height": 68
        },
        "outputId": "0f8799cd-9c4c-478f-da57-2d6b949328a9"
      },
      "source": [
        "##It is quite obvious that for every iteration 1-50, out of the 500 games played, the majority of time, the result would end up in a draw.\n",
        "##But lets perform bootstrap to be confident about this assumption, and prove that using the default MCTS algorithm does not make an agent expert in game.\n",
        "##The values taken to perform bootstrap will be the number of ties.\n",
        "\n",
        "data_bootstrap = df_mcts.values.T[2]\n",
        "#Bootstrap for current number of ties\n",
        "current_mean,current_lower,current_upper = bootstrap_mean_ci(data_bootstrap,data_bootstrap.shape[0],100000,90)\n",
        "print(\"The mean for number of ties (after 500 games): \"+ str(int(current_mean)))\n",
        "print(\"The lower bound for number of ties (after 500 games): \" + str(int(current_lower)))\n",
        "print(\"The upper bound for number of ties (after 500 games): \" + str(int(current_upper)))"
      ],
      "execution_count": 49,
      "outputs": [
        {
          "output_type": "stream",
          "text": [
            "The mean for number of ties (after 500 games): 441\n",
            "The lower bound for number of ties (after 500 games): 439\n",
            "The upper bound for number of ties (after 500 games): 442\n"
          ],
          "name": "stdout"
        }
      ]
    },
    {
      "cell_type": "markdown",
      "metadata": {
        "id": "6N5e_ET9ZKWc",
        "colab_type": "text"
      },
      "source": [
        "Now, we can say that within a 90% confidence interval, out of 500 games using default MCTS as agent for each player, the mean number of draws will be 441.\n",
        "And with an upper and lower bound number of ties of 442,439 respectively."
      ]
    },
    {
      "cell_type": "markdown",
      "metadata": {
        "id": "zU6Mt0T2Zd6f",
        "colab_type": "text"
      },
      "source": [
        "##Second Analysis, check if draws using the decision trees are less than using default MCTS"
      ]
    },
    {
      "cell_type": "code",
      "metadata": {
        "id": "0HsfCa7nbdLN",
        "colab_type": "code",
        "colab": {
          "base_uri": "https://localhost:8080/",
          "height": 299
        },
        "outputId": "cb74f759-04cc-483b-8e62-e5ac1e084d8a"
      },
      "source": [
        "#Combine the number of wins, loss,ties of classifier (10) vs classifier (1-10) and so on.\n",
        "aggregation_functions = {'wins': 'sum', 'loss': 'sum', 'ties': 'sum'}\n",
        "df_new_trees = df_trees.groupby(df_trees['latest classifier']).aggregate(aggregation_functions)\n",
        "df_new_trees['wins_losses'] = df_new_trees['wins'] + df_new_trees['loss']\n",
        "#print(df_new_trees)\n",
        "\n",
        "##We want to check how many wins we got (either player 1 or 2) and ties\n",
        "df_new_trees['win_percentage'] = (df_new_trees['wins'])/(df_new_trees['wins'] + df_new_trees['ties'])\n",
        "df_new_trees['draw_percentage'] = (df_new_trees['ties'])/(df_new_trees['ties'] + df_new_trees['wins'])\n",
        "\n",
        "#print(df_new_trees) #Uncomment to see dataframe\n",
        "\n",
        "#Lets look at a graph to see the percentage of wins and ties\n",
        "plt.plot(np.arange(1,51,1),df_new_trees.win_percentage)\n",
        "plt.plot(np.arange(1,51,1),df_new_trees.draw_percentage)\n",
        "plt.legend(['% of wins', '% of draws'], loc='best')\n",
        "plt.savefig(\"graph_tree_tree.png\")\n",
        "plt.show()\n",
        "\n",
        "mean_current_ties = np.mean(df_new_trees.values.T[2])\n",
        "mean_current_wins = np.mean(df_new_trees.values.T[3])\n",
        "print(\"The mean number of ties (out of 500 games) is: \" + str(int(mean_current_ties)))\n",
        "print(\"The mean number of times that an agent wins (out of 500 games) is \" + str(int(mean_current_wins)))\n"
      ],
      "execution_count": 72,
      "outputs": [
        {
          "output_type": "display_data",
          "data": {
            "image/png": "[encoded data removed]",
            "text/plain": [
              "<Figure size 432x288 with 1 Axes>"
            ]
          },
          "metadata": {
            "tags": [],
            "needs_background": "light"
          }
        },
        {
          "output_type": "stream",
          "text": [
            "The mean number of ties (out of 500 games) is: 163\n",
            "The mean number of times that an agent wins (out of 500 games) is 336\n"
          ],
          "name": "stdout"
        }
      ]
    },
    {
      "cell_type": "code",
      "metadata": {
        "id": "8zoMsEdafqUT",
        "colab_type": "code",
        "colab": {}
      },
      "source": [
        "##Lets perform a permutation test to see if the numbers of wins are significantly higher than using default MCTS, it looks like it is, but lets \n",
        "##make it is using statistics. I will also use a function made during Lab 2 that does this test.\n",
        "\n",
        "def permutation_test(data_1,data_2,n_permutations):\n",
        "  t_obs = np.mean(data_2) - np.mean(data_1)\n",
        "  count = 0\n",
        "  for x in range(n_permutations):\n",
        "    concat = np.concatenate((data_1,data_2))\n",
        "    perm = np.random.permutation(concat)\n",
        "    pold = perm[:int(len(data_1))-1]\n",
        "    pnew = perm[int(len(data_1)):]\n",
        "   \n",
        "    t_perm = np.mean(pnew)- np.mean(pold)\n",
        "    if t_perm > t_obs:\n",
        "      count += 1\n",
        "\n",
        "  p_value = count / n_permutations\n",
        "\n",
        "  return p_value"
      ],
      "execution_count": 0,
      "outputs": []
    },
    {
      "cell_type": "code",
      "metadata": {
        "id": "6Bp8KURwkpvu",
        "colab_type": "code",
        "colab": {
          "base_uri": "https://localhost:8080/",
          "height": 34
        },
        "outputId": "736d18c4-4a7e-4033-9f1a-a6ea171c3633"
      },
      "source": [
        "p_value = permutation_test(df_mcts.values.T[1],df_new_trees.values.T[3],200000)\n",
        "print(p_value)"
      ],
      "execution_count": 69,
      "outputs": [
        {
          "output_type": "stream",
          "text": [
            "0.0\n"
          ],
          "name": "stdout"
        }
      ]
    },
    {
      "cell_type": "code",
      "metadata": {
        "id": "ewmjIoIck3OH",
        "colab_type": "code",
        "colab": {}
      },
      "source": [
        ""
      ],
      "execution_count": 0,
      "outputs": []
    }
  ]
}