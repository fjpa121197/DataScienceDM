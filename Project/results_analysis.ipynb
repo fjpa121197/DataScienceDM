{
  "nbformat": 4,
  "nbformat_minor": 0,
  "metadata": {
    "colab": {
      "name": "results_analysis.ipynb",
      "provenance": [],
      "collapsed_sections": [],
      "authorship_tag": "ABX9TyOcSs46d7OQJB2mv8RYSg5M",
      "include_colab_link": true
    },
    "kernelspec": {
      "name": "python3",
      "display_name": "Python 3"
    }
  },
  "cells": [
    {
      "cell_type": "markdown",
      "metadata": {
        "id": "view-in-github",
        "colab_type": "text"
      },
      "source": [
        "<a href=\"https://colab.research.google.com/github/fjpa121197/DataScienceDM/blob/master/Project/results_analysis.ipynb\" target=\"_parent\"><img src=\"https://colab.research.google.com/assets/colab-badge.svg\" alt=\"Open In Colab\"/></a>"
      ]
    },
    {
      "cell_type": "code",
      "metadata": {
        "id": "NXIAg1fGa1Yj",
        "colab_type": "code",
        "colab": {
          "base_uri": "https://localhost:8080/",
          "height": 71
        },
        "outputId": "f14912cb-29a4-4a1a-eee1-9cc0b0fb0f06"
      },
      "source": [
        "#Import libraries\n",
        "import matplotlib.pyplot as plt\n",
        "import numpy as np\n",
        "import pandas as pd\n",
        "import random #https://pynative.com/python-random-choice/\n",
        "import seaborn as sns"
      ],
      "execution_count": 20,
      "outputs": [
        {
          "output_type": "stream",
          "text": [
            "/usr/local/lib/python3.6/dist-packages/statsmodels/tools/_testing.py:19: FutureWarning: pandas.util.testing is deprecated. Use the functions in the public API at pandas.testing instead.\n",
            "  import pandas.util.testing as tm\n"
          ],
          "name": "stderr"
        }
      ]
    },
    {
      "cell_type": "code",
      "metadata": {
        "id": "qREZSHdBO57W",
        "colab_type": "code",
        "colab": {}
      },
      "source": [
        "#Load results from github repositary\n",
        "df_all = pd.read_csv('https://raw.githubusercontent.com/fjpa121197/DataScienceDM/master/Project/results_all.csv')\n",
        "df_mcts = pd.read_csv('https://raw.githubusercontent.com/fjpa121197/DataScienceDM/master/Project/results_mcts.csv')\n",
        "df_trees = pd.read_csv('https://raw.githubusercontent.com/fjpa121197/DataScienceDM/master/Project/results_tree_tree.csv')"
      ],
      "execution_count": 0,
      "outputs": []
    },
    {
      "cell_type": "markdown",
      "metadata": {
        "id": "DjAIhCUxZWtx",
        "colab_type": "text"
      },
      "source": [
        "##FIRST ANALYSIS - MCTS default results"
      ]
    },
    {
      "cell_type": "code",
      "metadata": {
        "id": "gIjIxqxCPaM7",
        "colab_type": "code",
        "colab": {
          "base_uri": "https://localhost:8080/",
          "height": 313
        },
        "outputId": "d16b509e-754d-41bc-c96a-bd917249ad42"
      },
      "source": [
        "##Lets first take a look at the results using the default random choice in MCTS code\n",
        "##We want to check how many wins we got (either player 1 or 2) and ties\n",
        "df_mcts['win_percentage'] = (df_mcts['wins'])/(df_mcts['wins'] + df_mcts['ties'])\n",
        "df_mcts['draw_percentage'] = (df_mcts['ties'])/(df_mcts['ties'] + df_mcts['wins'])\n",
        "\n",
        "#print(df_mcts) #Uncomment to see dataframe\n",
        "\n",
        "#Lets look at a graph to see the percentage of wins and ties\n",
        "plt.plot(df_mcts.iteration,df_mcts.win_percentage)\n",
        "plt.plot(df_mcts.iteration,df_mcts.draw_percentage)\n",
        "plt.xlabel('Iterations')\n",
        "plt.ylabel('Percentage')\n",
        "plt.legend(['% of wins', '% of draws'], loc='best')\n",
        "plt.savefig(\"graph_default_mcts.png\")\n",
        "plt.show()\n",
        "\n",
        "mean_current_ties = np.mean(df_mcts.values.T[2])\n",
        "mean_current_wins = np.mean(df_mcts.values.T[1])\n",
        "print(\"The mean number of ties (out of 500 games) is: \" + str(int(mean_current_ties)))\n",
        "print(\"The mean number of times that an agent wins (out of 500 games) is \" + str(int(mean_current_wins)))"
      ],
      "execution_count": 83,
      "outputs": [
        {
          "output_type": "display_data",
          "data": {
            "image/png": "[encoded data removed]",
            "text/plain": [
              "<Figure size 432x288 with 1 Axes>"
            ]
          },
          "metadata": {
            "tags": [],
            "needs_background": "light"
          }
        },
        {
          "output_type": "stream",
          "text": [
            "The mean number of ties (out of 500 games) is: 441\n",
            "The mean number of times that an agent wins (out of 500 games) is 58\n"
          ],
          "name": "stdout"
        }
      ]
    },
    {
      "cell_type": "code",
      "metadata": {
        "id": "rHgceanlTonV",
        "colab_type": "code",
        "colab": {}
      },
      "source": [
        "##Define function to perform bootstrap. In lab 2, we make our own, so i will use that one here.\n",
        "def bootstrap_mean_ci(sample,sample_size,n_iterations,ci):\n",
        "\n",
        "  bst = np.empty(shape=(n_iterations,sample_size))#create a (n_iterations x sample_size array)\n",
        "  #randomly filled the arrays\n",
        "  for x in range(n_iterations):\n",
        "    for y in range(sample_size):\n",
        "      bst[x][y] = random.choice(sample)\n",
        "  #Get the mean of each sample\n",
        "  data_mean_all = []\n",
        "  for x in range(bst.shape[0]):\n",
        "    data_mean_all.append(np.mean(bst[x]))\n",
        "    \n",
        "  data_mean_all = np.sort(data_mean_all)\n",
        "  data_mean = np.mean(data_mean_all)\n",
        "\n",
        "  percentile_low = np.percentile(data_mean_all,((100-ci)/2))\n",
        "  percentile_high = np.percentile(data_mean_all,(100-((100-ci)/2)))\n",
        "\n",
        "  last_array= np.where(data_mean_all > percentile_low,data_mean_all,-1)\n",
        "  last_array = np.where(last_array < percentile_high,last_array,-1)\n",
        "  last_array = np.sort(last_array)\n",
        "  i = 0\n",
        "  while i > -1:\n",
        "    if last_array[i] != -1:\n",
        "      lower = last_array[i]\n",
        "      break\n",
        "    i += 1\n",
        "  upper = last_array[-1]\n",
        "\n",
        "  data_mean = 0\n",
        "  count = 0\n",
        "  for idx,x in enumerate(last_array):\n",
        "    if last_array[idx] != -1:\n",
        "      count += 1\n",
        "      data_mean = data_mean + last_array[idx]\n",
        "\n",
        "  data_mean = data_mean/count\n",
        "\n",
        "  return data_mean,lower,upper"
      ],
      "execution_count": 0,
      "outputs": []
    },
    {
      "cell_type": "code",
      "metadata": {
        "id": "hVygorTfPaZy",
        "colab_type": "code",
        "colab": {
          "base_uri": "https://localhost:8080/",
          "height": 68
        },
        "outputId": "0f8799cd-9c4c-478f-da57-2d6b949328a9"
      },
      "source": [
        "##It is quite obvious that for every iteration 1-50, out of the 500 games played, the majority of time, the result would end up in a draw.\n",
        "##But lets perform bootstrap to be confident about this assumption, and prove that using the default MCTS algorithm does not make an agent expert in game.\n",
        "##The values taken to perform bootstrap will be the number of ties.\n",
        "\n",
        "data_bootstrap = df_mcts.values.T[2]\n",
        "#Bootstrap for current number of ties\n",
        "current_mean,current_lower,current_upper = bootstrap_mean_ci(data_bootstrap,data_bootstrap.shape[0],100000,90)\n",
        "print(\"The mean for number of ties (after 500 games): \"+ str(int(current_mean)))\n",
        "print(\"The lower bound for number of ties (after 500 games): \" + str(int(current_lower)))\n",
        "print(\"The upper bound for number of ties (after 500 games): \" + str(int(current_upper)))"
      ],
      "execution_count": 49,
      "outputs": [
        {
          "output_type": "stream",
          "text": [
            "The mean for number of ties (after 500 games): 441\n",
            "The lower bound for number of ties (after 500 games): 439\n",
            "The upper bound for number of ties (after 500 games): 442\n"
          ],
          "name": "stdout"
        }
      ]
    },
    {
      "cell_type": "markdown",
      "metadata": {
        "id": "6N5e_ET9ZKWc",
        "colab_type": "text"
      },
      "source": [
        "Now, we can say that within a 90% confidence interval, out of 500 games using default MCTS as agent for each player, the mean number of draws will be 441.\n",
        "And with an upper and lower bound number of ties of 442,439 respectively."
      ]
    },
    {
      "cell_type": "markdown",
      "metadata": {
        "id": "zU6Mt0T2Zd6f",
        "colab_type": "text"
      },
      "source": [
        "##Second Analysis, check if draws using the decision trees are less than using default MCTS"
      ]
    },
    {
      "cell_type": "code",
      "metadata": {
        "id": "0HsfCa7nbdLN",
        "colab_type": "code",
        "colab": {
          "base_uri": "https://localhost:8080/",
          "height": 364
        },
        "outputId": "a0102e65-6c40-43d9-c3b5-54dd7958b154"
      },
      "source": [
        "#Combine the number of wins, loss,ties of classifier (10) vs classifier (1-10) and so on.\n",
        "aggregation_functions = {'wins': 'sum', 'loss': 'sum', 'ties': 'sum'}\n",
        "df_new_trees = df_trees.groupby(df_trees['latest classifier']).aggregate(aggregation_functions)\n",
        "df_new_trees['wins_losses'] = df_new_trees['wins'] + df_new_trees['loss']\n",
        "#print(df_new_trees)\n",
        "\n",
        "##We want to check how many wins we got (either player 1 or 2) and ties\n",
        "df_new_trees['win_percentage'] = (df_new_trees['wins'])/(df_new_trees['wins'] + df_new_trees['ties'])\n",
        "df_new_trees['draw_percentage'] = (df_new_trees['ties'])/(df_new_trees['ties'] + df_new_trees['wins'])\n",
        "\n",
        "#print(df_new_trees) #Uncomment to see dataframe\n",
        "\n",
        "#Lets look at a graph to see the percentage of wins and ties\n",
        "plt.plot(np.arange(1,51,1),df_new_trees.win_percentage)\n",
        "plt.plot(np.arange(1,51,1),df_new_trees.draw_percentage)\n",
        "plt.xlabel('Iterations')\n",
        "plt.ylabel('Percentage')\n",
        "plt.legend(['% of wins', '% of draws'], loc='best')\n",
        "plt.savefig(\"graph_tree_tree.png\")\n",
        "plt.show()\n",
        "\n",
        "mean_current_ties = np.mean(df_new_trees.values.T[2])\n",
        "mean_current_wins = np.mean(df_new_trees.values.T[3])\n",
        "print(\"The mean number of ties (out of 500 games) is: \" + str(int(mean_current_ties)))\n",
        "print(\"The mean number of times that an agent wins (out of 500 games) is \" + str(int(mean_current_wins)))\n",
        "\n",
        "data_bootstrap = df_new_trees.values.T[2]\n",
        "#Bootstrap for current number of ties\n",
        "current_mean,current_lower,current_upper = bootstrap_mean_ci(data_bootstrap,data_bootstrap.shape[0],100000,90)\n",
        "print(\"The mean for number of ties (after 500 games): \"+ str(int(current_mean)))\n",
        "print(\"The lower bound for number of ties (after 500 games): \" + str(int(current_lower)))\n",
        "print(\"The upper bound for number of ties (after 500 games): \" + str(int(current_upper)))\n"
      ],
      "execution_count": 123,
      "outputs": [
        {
          "output_type": "display_data",
          "data": {
            "image/png": "[encoded data removed]",
            "text/plain": [
              "<Figure size 432x288 with 1 Axes>"
            ]
          },
          "metadata": {
            "tags": [],
            "needs_background": "light"
          }
        },
        {
          "output_type": "stream",
          "text": [
            "The mean number of ties (out of 500 games) is: 163\n",
            "The mean number of times that an agent wins (out of 500 games) is 336\n",
            "The mean for number of ties (after 500 games): 163\n",
            "The lower bound for number of ties (after 500 games): 155\n",
            "The upper bound for number of ties (after 500 games): 171\n"
          ],
          "name": "stdout"
        }
      ]
    },
    {
      "cell_type": "code",
      "metadata": {
        "id": "8zoMsEdafqUT",
        "colab_type": "code",
        "colab": {}
      },
      "source": [
        "##Lets perform a permutation test to see if the numbers of wins are significantly higher than using default MCTS, it looks like it is, but lets \n",
        "##make it is using statistics. I will also use a function made during Lab 2 that does this test.\n",
        "\n",
        "def permutation_test(data_1,data_2,n_permutations):\n",
        "  t_obs = np.mean(data_2) - np.mean(data_1)\n",
        "  count = 0\n",
        "  for x in range(n_permutations):\n",
        "    concat = np.concatenate((data_1,data_2))\n",
        "    perm = np.random.permutation(concat)\n",
        "    pold = perm[:int(len(data_1))-1]\n",
        "    pnew = perm[int(len(data_1)):]\n",
        "   \n",
        "    t_perm = np.mean(pnew)- np.mean(pold)\n",
        "    if t_perm > t_obs:\n",
        "      count += 1\n",
        "\n",
        "  p_value = count / n_permutations\n",
        "\n",
        "  return p_value"
      ],
      "execution_count": 0,
      "outputs": []
    },
    {
      "cell_type": "code",
      "metadata": {
        "id": "6Bp8KURwkpvu",
        "colab_type": "code",
        "colab": {
          "base_uri": "https://localhost:8080/",
          "height": 34
        },
        "outputId": "736d18c4-4a7e-4033-9f1a-a6ea171c3633"
      },
      "source": [
        "p_value = permutation_test(df_mcts.values.T[1],df_new_trees.values.T[3],200000)\n",
        "print(p_value)"
      ],
      "execution_count": 69,
      "outputs": [
        {
          "output_type": "stream",
          "text": [
            "0.0\n"
          ],
          "name": "stdout"
        }
      ]
    },
    {
      "cell_type": "markdown",
      "metadata": {
        "id": "9v1Sa39kriwH",
        "colab_type": "text"
      },
      "source": [
        "##Third Analysis to see improvement of classifiers along iterations"
      ]
    },
    {
      "cell_type": "code",
      "metadata": {
        "id": "jyBbTcOW1AI8",
        "colab_type": "code",
        "colab": {}
      },
      "source": [
        "for x in range(10,510,10):\n",
        "  wins_tree = df_trees.loc[df_trees['latest classifier'] == x, 'wins'].values\n",
        "  loss_tree = df_trees.loc[df_trees['latest classifier'] == x, 'loss'].values\n",
        "  ties_tree = df_trees.loc[df_trees['latest classifier'] == x, 'ties'].values\n",
        "\n",
        "  plt.plot(np.arange(1,11,1),wins_tree)\n",
        "  plt.plot(np.arange(1,11,1),loss_tree)\n",
        "  plt.plot(np.arange(1,11,1),ties_tree)\n",
        "  plt.legend(['# of wins', '# of losses','# of ties'], loc='best')\n",
        "  plt.xlabel('Classifier')\n",
        "  plt.ylabel('# Games')\n",
        "  plt.savefig(\"graph_classifier_%s.png\" %x)\n",
        "  plt.close() #If you uncomment the line below, comment this one\n",
        "  #plt.show() #If you want to see all graphs being ploted, uncomment this line"
      ],
      "execution_count": 0,
      "outputs": []
    },
    {
      "cell_type": "code",
      "metadata": {
        "id": "tZrFGCJS1AQo",
        "colab_type": "code",
        "colab": {
          "base_uri": "https://localhost:8080/",
          "height": 1000
        },
        "outputId": "42d38c70-5eff-455d-9ab1-d00fa77c2299"
      },
      "source": [
        "##Run correlation test and see which cases the behaviour of wins is as expected\n",
        "import scipy.stats\n",
        "for x in range(10,510,10):\n",
        "  wins_tree = df_trees.loc[df_trees['latest classifier'] == x, 'wins'].values\n",
        "  correlation = scipy.stats.pearsonr(np.arange(1,11,1), wins_tree)\n",
        "  print(\"For Iteration 1 (Classifier %s vs previous 10 agents):\" %x)\n",
        "  print(correlation)"
      ],
      "execution_count": 122,
      "outputs": [
        {
          "output_type": "stream",
          "text": [
            "For Iteration 1 (Classifier 10 vs previous 10 agents):\n",
            "(-0.042082731807843235, 0.9081068781269088)\n",
            "For Iteration 1 (Classifier 20 vs previous 10 agents):\n",
            "(0.3167514084606957, 0.37254033240215023)\n",
            "For Iteration 1 (Classifier 30 vs previous 10 agents):\n",
            "(0.4168403863601293, 0.23076464680649522)\n",
            "For Iteration 1 (Classifier 40 vs previous 10 agents):\n",
            "(-0.29032944690379514, 0.41578422436265106)\n",
            "For Iteration 1 (Classifier 50 vs previous 10 agents):\n",
            "(-0.5692609868999985, 0.08586998969048239)\n",
            "For Iteration 1 (Classifier 60 vs previous 10 agents):\n",
            "(-0.15728140586693765, 0.6643323371199862)\n",
            "For Iteration 1 (Classifier 70 vs previous 10 agents):\n",
            "(0.745771051581364, 0.013269520191016614)\n",
            "For Iteration 1 (Classifier 80 vs previous 10 agents):\n",
            "(0.13373921960961416, 0.7126222235089891)\n",
            "For Iteration 1 (Classifier 90 vs previous 10 agents):\n",
            "(-0.154827256970119, 0.6693180420070645)\n",
            "For Iteration 1 (Classifier 100 vs previous 10 agents):\n",
            "(0.39785799524194676, 0.2548576894318515)\n",
            "For Iteration 1 (Classifier 110 vs previous 10 agents):\n",
            "(0.04999218933057797, 0.8909149856234658)\n",
            "For Iteration 1 (Classifier 120 vs previous 10 agents):\n",
            "(-0.4686012975962778, 0.17192008902714098)\n",
            "For Iteration 1 (Classifier 130 vs previous 10 agents):\n",
            "(0.4792338382985231, 0.16107661084191924)\n",
            "For Iteration 1 (Classifier 140 vs previous 10 agents):\n",
            "(-0.02917046515162991, 0.9362438770512989)\n",
            "For Iteration 1 (Classifier 150 vs previous 10 agents):\n",
            "(0.5743831870376451, 0.08245419670362375)\n",
            "For Iteration 1 (Classifier 160 vs previous 10 agents):\n",
            "(-0.21695722303871234, 0.5471215751112618)\n",
            "For Iteration 1 (Classifier 170 vs previous 10 agents):\n",
            "(0.020100756305184236, 0.9560473570959249)\n",
            "For Iteration 1 (Classifier 180 vs previous 10 agents):\n",
            "(0.008038159298652398, 0.9824176625936296)\n",
            "For Iteration 1 (Classifier 190 vs previous 10 agents):\n",
            "(-0.10660035817780525, 0.7694435649534491)\n",
            "For Iteration 1 (Classifier 200 vs previous 10 agents):\n",
            "(-0.1377213777573521, 0.7043839075646139)\n",
            "For Iteration 1 (Classifier 210 vs previous 10 agents):\n",
            "(0.1561556371863688, 0.6666179246143755)\n",
            "For Iteration 1 (Classifier 220 vs previous 10 agents):\n",
            "(0.3744418940816675, 0.28641204107926627)\n",
            "For Iteration 1 (Classifier 230 vs previous 10 agents):\n",
            "(0.23159793789482827, 0.5196900628475637)\n",
            "For Iteration 1 (Classifier 240 vs previous 10 agents):\n",
            "(-0.08652532008633532, 0.8121365340383337)\n",
            "For Iteration 1 (Classifier 250 vs previous 10 agents):\n",
            "(0.07284923171146705, 0.8414853290762712)\n",
            "For Iteration 1 (Classifier 260 vs previous 10 agents):\n",
            "(-0.13581571565661696, 0.7083229576399237)\n",
            "For Iteration 1 (Classifier 270 vs previous 10 agents):\n",
            "(0.7104769558384739, 0.021295485581159707)\n",
            "For Iteration 1 (Classifier 280 vs previous 10 agents):\n",
            "(0.5075192189225524, 0.13427833140870746)\n",
            "For Iteration 1 (Classifier 290 vs previous 10 agents):\n",
            "(0.5176518884061609, 0.12539586839539757)\n",
            "For Iteration 1 (Classifier 300 vs previous 10 agents):\n",
            "(0.5737395379060157, 0.08287852637628682)\n",
            "For Iteration 1 (Classifier 310 vs previous 10 agents):\n",
            "(0.4062624578484059, 0.24402520047750348)\n",
            "For Iteration 1 (Classifier 320 vs previous 10 agents):\n",
            "(0.24375747470904363, 0.4973496743555063)\n",
            "For Iteration 1 (Classifier 330 vs previous 10 agents):\n",
            "(-0.2709063923023475, 0.44900225675703953)\n",
            "For Iteration 1 (Classifier 340 vs previous 10 agents):\n",
            "(0.8080643764760828, 0.004676291937021739)\n",
            "For Iteration 1 (Classifier 350 vs previous 10 agents):\n",
            "(0.574370047321563, 0.08246284511567362)\n",
            "For Iteration 1 (Classifier 360 vs previous 10 agents):\n",
            "(-0.03886501653787772, 0.9151110776057386)\n",
            "For Iteration 1 (Classifier 370 vs previous 10 agents):\n",
            "(-0.12899994625003364, 0.7224617932585864)\n",
            "For Iteration 1 (Classifier 380 vs previous 10 agents):\n",
            "(0.41596975322340535, 0.23184031960736948)\n",
            "For Iteration 1 (Classifier 390 vs previous 10 agents):\n",
            "(0.4528681593250442, 0.18874247146014872)\n",
            "For Iteration 1 (Classifier 400 vs previous 10 agents):\n",
            "(-0.07794618374722442, 0.8305248874549054)\n",
            "For Iteration 1 (Classifier 410 vs previous 10 agents):\n",
            "(0.2271771341129684, 0.5279129070756237)\n",
            "For Iteration 1 (Classifier 420 vs previous 10 agents):\n",
            "(-0.14363791428130823, 0.69219489794321)\n",
            "For Iteration 1 (Classifier 430 vs previous 10 agents):\n",
            "(0.020626962071936802, 0.9548977134737179)\n",
            "For Iteration 1 (Classifier 440 vs previous 10 agents):\n",
            "(0.11100236139576769, 0.7601521643464442)\n",
            "For Iteration 1 (Classifier 450 vs previous 10 agents):\n",
            "(0.013450413144191348, 0.9705825436505378)\n",
            "For Iteration 1 (Classifier 460 vs previous 10 agents):\n",
            "(0.19715572318478425, 0.5850984463962752)\n",
            "For Iteration 1 (Classifier 470 vs previous 10 agents):\n",
            "(-0.3109177113519319, 0.3818900436020344)\n",
            "For Iteration 1 (Classifier 480 vs previous 10 agents):\n",
            "(0.14738573896722243, 0.6845063769139066)\n",
            "For Iteration 1 (Classifier 490 vs previous 10 agents):\n",
            "(-0.5813246384923385, 0.07796679523530618)\n",
            "For Iteration 1 (Classifier 500 vs previous 10 agents):\n",
            "(0.03652147803951608, 0.9202157412634554)\n"
          ],
          "name": "stdout"
        }
      ]
    },
    {
      "cell_type": "code",
      "metadata": {
        "id": "j_qkdtKH1ATz",
        "colab_type": "code",
        "colab": {}
      },
      "source": [
        ""
      ],
      "execution_count": 0,
      "outputs": []
    },
    {
      "cell_type": "code",
      "metadata": {
        "id": "UVdesPJp1AWl",
        "colab_type": "code",
        "colab": {}
      },
      "source": [
        ""
      ],
      "execution_count": 0,
      "outputs": []
    },
    {
      "cell_type": "code",
      "metadata": {
        "id": "LbLppZvC0_VI",
        "colab_type": "code",
        "colab": {}
      },
      "source": [
        ""
      ],
      "execution_count": 0,
      "outputs": []
    },
    {
      "cell_type": "code",
      "metadata": {
        "id": "3KapkJeiwx-t",
        "colab_type": "code",
        "colab": {}
      },
      "source": [
        ""
      ],
      "execution_count": 0,
      "outputs": []
    }
  ]
}