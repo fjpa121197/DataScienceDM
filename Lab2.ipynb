{
  "nbformat": 4,
  "nbformat_minor": 0,
  "metadata": {
    "colab": {
      "name": "Lab2.ipynb",
      "provenance": [],
      "collapsed_sections": [],
      "authorship_tag": "ABX9TyONh5P15OuvonKtZcg7GXU8",
      "include_colab_link": true
    },
    "kernelspec": {
      "name": "python3",
      "display_name": "Python 3"
    }
  },
  "cells": [
    {
      "cell_type": "markdown",
      "metadata": {
        "id": "view-in-github",
        "colab_type": "text"
      },
      "source": [
        "<a href=\"https://colab.research.google.com/github/fjpa121197/DataScienceDM/blob/master/Lab2.ipynb\" target=\"_parent\"><img src=\"https://colab.research.google.com/assets/colab-badge.svg\" alt=\"Open In Colab\"/></a>"
      ]
    },
    {
      "cell_type": "code",
      "metadata": {
        "id": "pXM-NGRczvxG",
        "colab_type": "code",
        "colab": {}
      },
      "source": [
        "import matplotlib\n",
        "import pandas as pd\n",
        "import seaborn as sns\n",
        "import numpy as np\n",
        "import random #https://pynative.com/python-random-choice/"
      ],
      "execution_count": 0,
      "outputs": []
    },
    {
      "cell_type": "code",
      "metadata": {
        "id": "YEYEanHd1iTA",
        "colab_type": "code",
        "colab": {}
      },
      "source": [
        "#Read data\n",
        "df = pd.read_csv('https://raw.githubusercontent.com/albanda/CE888/master/lab2%20-%20bootstrap/customers.csv')\n",
        "data = df.values.T[1]  #Use transpose to?"
      ],
      "execution_count": 0,
      "outputs": []
    },
    {
      "cell_type": "code",
      "metadata": {
        "id": "B3E12QRt1qmP",
        "colab_type": "code",
        "colab": {}
      },
      "source": [
        "def bootstrap_mean(sample,sample_size,n_iterations):\n",
        "\n",
        "  bst = np.empty(shape=(n_iterations,sample_size))#create a (n_iterations x sample_size array)\n",
        "  #randomly filled the arrays\n",
        "  for x in range(n_iterations):\n",
        "    for y in range(sample_size):\n",
        "      bst[x][y] = random.choice(sample)\n",
        "  #Get the mean of each sample\n",
        "  data_mean_all = []\n",
        "  for x in range(bst.shape[0]):\n",
        "    data_mean_all.append(np.mean(bst[x]))\n",
        "    \n",
        "  data_mean_all = np.sort(data_mean_all)\n",
        "  data_mean = np.mean(data_mean_all)\n",
        "\n",
        "  percentile_low = np.percentile(data_mean_all,2.5)\n",
        "  percentile_high = np.percentile(data_mean_all,97.5)\n",
        "\n",
        "  last_array= np.where(data_mean_all > percentile_low,data_mean_all,-1)\n",
        "  last_array = np.where(last_array < percentile_high,last_array,-1)\n",
        "  last_array = np.sort(last_array)\n",
        "  i = 0\n",
        "  while i > -1:\n",
        "    if last_array[i] != -1:\n",
        "      lower = last_array[i]\n",
        "      break\n",
        "    i += 1\n",
        "  upper = last_array[-1]\n",
        "\n",
        "\n",
        "  return data_mean,lower,upper"
      ],
      "execution_count": 0,
      "outputs": []
    },
    {
      "cell_type": "code",
      "metadata": {
        "id": "7EctXMAu1tWw",
        "colab_type": "code",
        "colab": {}
      },
      "source": [
        "\n",
        "# Call your bootstrap function and plot the results\n",
        "boots = []\n",
        "for i in range(100, 100000, 1000):\n",
        "    boot = bootstrap_mean(data, data.shape[0], i)\n",
        "    boots.append([i, boot[0], \"mean\"])\n",
        "    boots.append([i, boot[1], \"lower\"])\n",
        "    boots.append([i, boot[2], \"upper\"])\n",
        "\n"
      ],
      "execution_count": 0,
      "outputs": []
    },
    {
      "cell_type": "code",
      "metadata": {
        "id": "YjaShcc9S2qf",
        "colab_type": "code",
        "colab": {
          "base_uri": "https://localhost:8080/",
          "height": 624
        },
        "outputId": "8e238c54-fb40-4c06-b36e-ae407145c5eb"
      },
      "source": [
        "df_boot = pd.DataFrame(boots, columns=['Boostrap Iterations', 'Mean', \"Value\"])\n",
        "print(df_boot)\n",
        "sns_plot = sns.lmplot(df_boot.columns[0], df_boot.columns[1], data=df_boot, fit_reg=False, hue=\"Value\")\n",
        "\n",
        "sns_plot.axes[0, 0].set_ylim(0,)\n",
        "sns_plot.axes[0, 0].set_xlim(0, 100000)\n",
        "\n",
        "#sns_plot.savefig(\"bootstrap_confidence.png\", bbox_inches='tight')\n",
        "#sns_plot.savefig(\"bootstrap_confidence.pdf\", bbox_inches='tight')"
      ],
      "execution_count": 97,
      "outputs": [
        {
          "output_type": "stream",
          "text": [
            "     Boostrap Iterations       Mean  Value\n",
            "0                    100   9.156429   mean\n",
            "1                    100   6.928571  lower\n",
            "2                    100  11.714286  upper\n",
            "3                   1100   9.195455   mean\n",
            "4                   1100   6.642857  lower\n",
            "..                   ...        ...    ...\n",
            "295                98100   6.500000  lower\n",
            "296                98100  12.285714  upper\n",
            "297                99100   9.216837   mean\n",
            "298                99100   6.500000  lower\n",
            "299                99100  12.285714  upper\n",
            "\n",
            "[300 rows x 3 columns]\n"
          ],
          "name": "stdout"
        },
        {
          "output_type": "execute_result",
          "data": {
            "text/plain": [
              "(0, 100000)"
            ]
          },
          "metadata": {
            "tags": []
          },
          "execution_count": 97
        },
        {
          "output_type": "display_data",
          "data": {
            "image/png": "[encoded data removed]",
            "text/plain": [
              "<Figure size 425.125x360 with 1 Axes>"
            ]
          },
          "metadata": {
            "tags": []
          }
        }
      ]
    },
    {
      "cell_type": "code",
      "metadata": {
        "id": "oB43ysd8TsFF",
        "colab_type": "code",
        "colab": {}
      },
      "source": [
        "def bootstrap_mean_ci(sample,sample_size,n_iterations,ci):\n",
        "\n",
        "  bst = np.empty(shape=(n_iterations,sample_size))#create a (n_iterations x sample_size array)\n",
        "  #randomly filled the arrays\n",
        "  for x in range(n_iterations):\n",
        "    for y in range(sample_size):\n",
        "      bst[x][y] = random.choice(sample)\n",
        "  #Get the mean of each sample\n",
        "  data_mean_all = []\n",
        "  for x in range(bst.shape[0]):\n",
        "    data_mean_all.append(np.mean(bst[x]))\n",
        "    \n",
        "  data_mean_all = np.sort(data_mean_all)\n",
        "  data_mean = np.mean(data_mean_all)\n",
        "\n",
        "  percentile_low = np.percentile(data_mean_all,((100-ci)/2))\n",
        "  percentile_high = np.percentile(data_mean_all,(100-((100-ci)/2)))\n",
        "\n",
        "  last_array= np.where(data_mean_all > percentile_low,data_mean_all,-1)\n",
        "  last_array = np.where(last_array < percentile_high,last_array,-1)\n",
        "  last_array = np.sort(last_array)\n",
        "  i = 0\n",
        "  while i > -1:\n",
        "    if last_array[i] != -1:\n",
        "      lower = last_array[i]\n",
        "      break\n",
        "    i += 1\n",
        "  upper = last_array[-1]\n",
        "\n",
        "\n",
        "  return data_mean,lower,upper"
      ],
      "execution_count": 0,
      "outputs": []
    },
    {
      "cell_type": "code",
      "metadata": {
        "id": "wYiKd_DnXq6P",
        "colab_type": "code",
        "colab": {}
      },
      "source": [
        "boots = []\n",
        "for i in range(100, 100000, 1000):\n",
        "    boot = bootstrap_mean_ci(data, data.shape[0], i, 80)\n",
        "    boots.append([i, boot[0], \"mean\"])\n",
        "    boots.append([i, boot[1], \"lower\"])\n",
        "    boots.append([i, boot[2], \"upper\"])"
      ],
      "execution_count": 0,
      "outputs": []
    },
    {
      "cell_type": "code",
      "metadata": {
        "id": "1h5x9nOpXuNS",
        "colab_type": "code",
        "colab": {
          "base_uri": "https://localhost:8080/",
          "height": 607
        },
        "outputId": "9827671c-f559-4057-e2ce-9be14d3edc75"
      },
      "source": [
        "df_boot = pd.DataFrame(boots, columns=['Boostrap Iterations', 'Mean', \"Value\"])\n",
        "sns_plot = sns.lmplot(df_boot.columns[0], df_boot.columns[1], data=df_boot, fit_reg=False, hue=\"Value\")\n",
        "print(df_boot)\n",
        "sns_plot.axes[0, 0].set_ylim(0,)\n",
        "sns_plot.axes[0, 0].set_xlim(0, 100000)\n",
        "\n",
        "sns_plot.savefig(\"bootstrap_confidence_80.png\", bbox_inches='tight')\n",
        "sns_plot.savefig(\"bootstrap_confidence_80.pdf\", bbox_inches='tight')"
      ],
      "execution_count": 102,
      "outputs": [
        {
          "output_type": "stream",
          "text": [
            "     Boostrap Iterations       Mean  Value\n",
            "0                    100   8.994286   mean\n",
            "1                    100   7.357143  lower\n",
            "2                    100  11.000000  upper\n",
            "3                   1100   9.163117   mean\n",
            "4                   1100   7.285714  lower\n",
            "..                   ...        ...    ...\n",
            "295                98100   7.357143  lower\n",
            "296                98100  11.142857  upper\n",
            "297                99100   9.211199   mean\n",
            "298                99100   7.357143  lower\n",
            "299                99100  11.142857  upper\n",
            "\n",
            "[300 rows x 3 columns]\n"
          ],
          "name": "stdout"
        },
        {
          "output_type": "display_data",
          "data": {
            "image/png": "[encoded data removed]",
            "text/plain": [
              "<Figure size 425.125x360 with 1 Axes>"
            ]
          },
          "metadata": {
            "tags": []
          }
        }
      ]
    },
    {
      "cell_type": "code",
      "metadata": {
        "id": "UgvfxgEtYbEa",
        "colab_type": "code",
        "colab": {}
      },
      "source": [
        ""
      ],
      "execution_count": 0,
      "outputs": []
    }
  ]
}