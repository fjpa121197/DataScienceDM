{
  "nbformat": 4,
  "nbformat_minor": 0,
  "metadata": {
    "colab": {
      "name": "Lab2.ipynb",
      "provenance": [],
      "collapsed_sections": [],
      "authorship_tag": "ABX9TyMsYMHsHowrnzLQkbwtgUrS",
      "include_colab_link": true
    },
    "kernelspec": {
      "name": "python3",
      "display_name": "Python 3"
    }
  },
  "cells": [
    {
      "cell_type": "markdown",
      "metadata": {
        "id": "view-in-github",
        "colab_type": "text"
      },
      "source": [
        "<a href=\"https://colab.research.google.com/github/fjpa121197/DataScienceDM/blob/master/Lab2/Lab2.ipynb\" target=\"_parent\"><img src=\"https://colab.research.google.com/assets/colab-badge.svg\" alt=\"Open In Colab\"/></a>"
      ]
    },
    {
      "cell_type": "code",
      "metadata": {
        "id": "pXM-NGRczvxG",
        "colab_type": "code",
        "colab": {}
      },
      "source": [
        "import matplotlib\n",
        "import pandas as pd\n",
        "import seaborn as sns\n",
        "import numpy as np\n",
        "import random #https://pynative.com/python-random-choice/"
      ],
      "execution_count": 0,
      "outputs": []
    },
    {
      "cell_type": "code",
      "metadata": {
        "id": "YEYEanHd1iTA",
        "colab_type": "code",
        "colab": {}
      },
      "source": [
        "#Read data\n",
        "df = pd.read_csv('https://raw.githubusercontent.com/albanda/CE888/master/lab2%20-%20bootstrap/customers.csv')\n",
        "data = df.values.T[1]"
      ],
      "execution_count": 0,
      "outputs": []
    },
    {
      "cell_type": "code",
      "metadata": {
        "id": "B3E12QRt1qmP",
        "colab_type": "code",
        "colab": {}
      },
      "source": [
        "def bootstrap_mean(sample,sample_size,n_iterations):\n",
        "\n",
        "  bst = np.empty(shape=(n_iterations,sample_size))#create a (n_iterations x sample_size array)\n",
        "  #randomly filled the arrays\n",
        "  for x in range(n_iterations):\n",
        "    for y in range(sample_size):\n",
        "      bst[x][y] = random.choice(sample)\n",
        "  #Get the mean of each sample\n",
        "  data_mean_all = []\n",
        "  for x in range(bst.shape[0]):\n",
        "    data_mean_all.append(np.mean(bst[x]))\n",
        "    \n",
        "  data_mean_all = np.sort(data_mean_all)\n",
        "\n",
        "  percentile_low = np.percentile(data_mean_all,2.5)\n",
        "  percentile_high = np.percentile(data_mean_all,97.5)\n",
        "\n",
        "  last_array= np.where(data_mean_all > percentile_low,data_mean_all,-1)\n",
        "  last_array = np.where(last_array < percentile_high,last_array,-1)\n",
        "  last_array = np.sort(last_array)\n",
        "  i = 0\n",
        "  while i > -1:\n",
        "    if last_array[i] != -1:\n",
        "      lower = last_array[i]\n",
        "      break\n",
        "    i += 1\n",
        "  upper = last_array[-1]\n",
        "\n",
        "  data_mean = 0\n",
        "  count = 0\n",
        "  for idx,x in enumerate(last_array):\n",
        "    if last_array[idx] != -1:\n",
        "      count += 1\n",
        "      data_mean = data_mean + last_array[idx]\n",
        "\n",
        "  data_mean = data_mean/count\n",
        "\n",
        "  return data_mean,lower,upper"
      ],
      "execution_count": 0,
      "outputs": []
    },
    {
      "cell_type": "code",
      "metadata": {
        "id": "7EctXMAu1tWw",
        "colab_type": "code",
        "colab": {}
      },
      "source": [
        "\n",
        "# Call your bootstrap function and plot the results\n",
        "boots = []\n",
        "for i in range(100, 100000, 1000):\n",
        "    boot = bootstrap_mean(data, data.shape[0], i)\n",
        "    boots.append([i, boot[0], \"mean\"])\n",
        "    boots.append([i, boot[1], \"lower\"])\n",
        "    boots.append([i, boot[2], \"upper\"])\n",
        "\n"
      ],
      "execution_count": 0,
      "outputs": []
    },
    {
      "cell_type": "code",
      "metadata": {
        "id": "YjaShcc9S2qf",
        "colab_type": "code",
        "outputId": "e453e91f-3c16-4dc7-e86e-6bdc2d86154a",
        "colab": {
          "base_uri": "https://localhost:8080/",
          "height": 624
        }
      },
      "source": [
        "df_boot = pd.DataFrame(boots, columns=['Boostrap Iterations', 'Mean', \"Value\"])\n",
        "print(df_boot)\n",
        "sns_plot = sns.lmplot(df_boot.columns[0], df_boot.columns[1], data=df_boot, fit_reg=False, hue=\"Value\")\n",
        "\n",
        "sns_plot.axes[0, 0].set_ylim(0,)\n",
        "sns_plot.axes[0, 0].set_xlim(0, 100000)\n",
        "\n",
        "#sns_plot.savefig(\"bootstrap_confidence.png\", bbox_inches='tight')\n",
        "#sns_plot.savefig(\"bootstrap_confidence.pdf\", bbox_inches='tight')"
      ],
      "execution_count": 0,
      "outputs": [
        {
          "output_type": "stream",
          "text": [
            "     Boostrap Iterations       Mean  Value\n",
            "0                    100   9.393617   mean\n",
            "1                    100   6.928571  lower\n",
            "2                    100  12.285714  upper\n",
            "3                   1100   9.197426   mean\n",
            "4                   1100   6.571429  lower\n",
            "..                   ...        ...    ...\n",
            "295                98100   6.500000  lower\n",
            "296                98100  12.285714  upper\n",
            "297                99100   9.200392   mean\n",
            "298                99100   6.500000  lower\n",
            "299                99100  12.285714  upper\n",
            "\n",
            "[300 rows x 3 columns]\n"
          ],
          "name": "stdout"
        },
        {
          "output_type": "execute_result",
          "data": {
            "text/plain": [
              "(0, 100000)"
            ]
          },
          "metadata": {
            "tags": []
          },
          "execution_count": 32
        },
        {
          "output_type": "display_data",
          "data": {
            "image/png": "[encoded data removed]",
            "text/plain": [
              "<Figure size 425.125x360 with 1 Axes>"
            ]
          },
          "metadata": {
            "tags": []
          }
        }
      ]
    },
    {
      "cell_type": "code",
      "metadata": {
        "id": "oB43ysd8TsFF",
        "colab_type": "code",
        "colab": {}
      },
      "source": [
        "def bootstrap_mean_ci(sample,sample_size,n_iterations,ci):\n",
        "\n",
        "  bst = np.empty(shape=(n_iterations,sample_size))#create a (n_iterations x sample_size array)\n",
        "  #randomly filled the arrays\n",
        "  for x in range(n_iterations):\n",
        "    for y in range(sample_size):\n",
        "      bst[x][y] = random.choice(sample)\n",
        "  #Get the mean of each sample\n",
        "  data_mean_all = []\n",
        "  for x in range(bst.shape[0]):\n",
        "    data_mean_all.append(np.mean(bst[x]))\n",
        "    \n",
        "  data_mean_all = np.sort(data_mean_all)\n",
        "  data_mean = np.mean(data_mean_all)\n",
        "\n",
        "  percentile_low = np.percentile(data_mean_all,((100-ci)/2))\n",
        "  percentile_high = np.percentile(data_mean_all,(100-((100-ci)/2)))\n",
        "\n",
        "  last_array= np.where(data_mean_all > percentile_low,data_mean_all,-1)\n",
        "  last_array = np.where(last_array < percentile_high,last_array,-1)\n",
        "  last_array = np.sort(last_array)\n",
        "  i = 0\n",
        "  while i > -1:\n",
        "    if last_array[i] != -1:\n",
        "      lower = last_array[i]\n",
        "      break\n",
        "    i += 1\n",
        "  upper = last_array[-1]\n",
        "\n",
        "  data_mean = 0\n",
        "  count = 0\n",
        "  for idx,x in enumerate(last_array):\n",
        "    if last_array[idx] != -1:\n",
        "      count += 1\n",
        "      data_mean = data_mean + last_array[idx]\n",
        "\n",
        "  data_mean = data_mean/count\n",
        "\n",
        "\n",
        "  return data_mean,lower,upper"
      ],
      "execution_count": 0,
      "outputs": []
    },
    {
      "cell_type": "code",
      "metadata": {
        "id": "wYiKd_DnXq6P",
        "colab_type": "code",
        "colab": {}
      },
      "source": [
        "boots = []\n",
        "for i in range(100, 100000, 1000):\n",
        "    boot = bootstrap_mean_ci(data, data.shape[0], i, 80)\n",
        "    boots.append([i, boot[0], \"mean\"])\n",
        "    boots.append([i, boot[1], \"lower\"])\n",
        "    boots.append([i, boot[2], \"upper\"])"
      ],
      "execution_count": 0,
      "outputs": []
    },
    {
      "cell_type": "code",
      "metadata": {
        "id": "1h5x9nOpXuNS",
        "colab_type": "code",
        "outputId": "68537bfd-1d22-4424-d2d0-02e5f7449877",
        "colab": {
          "base_uri": "https://localhost:8080/",
          "height": 604
        }
      },
      "source": [
        "df_boot = pd.DataFrame(boots, columns=['Boostrap Iterations', 'Mean', \"Value\"])\n",
        "sns_plot = sns.lmplot(df_boot.columns[0], df_boot.columns[1], data=df_boot, fit_reg=False, hue=\"Value\")\n",
        "print(df_boot)\n",
        "sns_plot.axes[0, 0].set_ylim(0,)\n",
        "sns_plot.axes[0, 0].set_xlim(0, 100000)\n",
        "\n",
        "sns_plot.savefig(\"bootstrap_confidence_80.png\", bbox_inches='tight')\n",
        "sns_plot.savefig(\"bootstrap_confidence_80.pdf\", bbox_inches='tight')"
      ],
      "execution_count": 0,
      "outputs": [
        {
          "output_type": "stream",
          "text": [
            "     Boostrap Iterations       Mean  Value\n",
            "0                    100   9.109890   mean\n",
            "1                    100   7.571429  lower\n",
            "2                    100  10.928571  upper\n",
            "3                   1100   9.208943   mean\n",
            "4                   1100   7.428571  lower\n",
            "..                   ...        ...    ...\n",
            "295                98100   7.357143  lower\n",
            "296                98100  11.142857  upper\n",
            "297                99100   9.172088   mean\n",
            "298                99100   7.357143  lower\n",
            "299                99100  11.142857  upper\n",
            "\n",
            "[300 rows x 3 columns]\n"
          ],
          "name": "stdout"
        },
        {
          "output_type": "display_data",
          "data": {
            "image/png": "[encoded data removed]",
            "text/plain": [
              "<Figure size 425.125x360 with 1 Axes>"
            ]
          },
          "metadata": {
            "tags": []
          }
        }
      ]
    },
    {
      "cell_type": "markdown",
      "metadata": {
        "id": "PQUQkMQtzwbG",
        "colab_type": "text"
      },
      "source": [
        "(2) Data visualization"
      ]
    },
    {
      "cell_type": "code",
      "metadata": {
        "id": "MKLv-EX9zyKG",
        "colab_type": "code",
        "colab": {}
      },
      "source": [
        "#Read data of vehicles dataset\n",
        "vdf_current = pd.read_csv('https://raw.githubusercontent.com/albanda/CE888/master/lab2%20-%20bootstrap/vehicles.csv',usecols=[\"Current fleet\"])\n",
        "vdf_proposed = pd.read_csv('https://raw.githubusercontent.com/albanda/CE888/master/lab2%20-%20bootstrap/vehicles.csv',usecols=[\"New Fleet\"])\n",
        "vdf_current.index +=1\n",
        "vdf_proposed.index +=1\n",
        "vdf_current.reset_index(inplace=True)\n",
        "vdf_proposed.reset_index(inplace=True)\n",
        "vdf_proposed.dropna(inplace=True)"
      ],
      "execution_count": 0,
      "outputs": []
    },
    {
      "cell_type": "code",
      "metadata": {
        "id": "Jp342AO90Hat",
        "colab_type": "code",
        "outputId": "b204b52a-5567-4778-a2cc-b82ab91b5273",
        "colab": {
          "base_uri": "https://localhost:8080/",
          "height": 386
        }
      },
      "source": [
        "#Create histograms and scatterplots for current fleet and proposed fleet\n",
        "#Scatter plot for current fleet\n",
        "sns.lmplot(vdf_current.columns[0],vdf_current.columns[1],data = vdf_current,fit_reg=False)"
      ],
      "execution_count": 0,
      "outputs": [
        {
          "output_type": "execute_result",
          "data": {
            "text/plain": [
              "<seaborn.axisgrid.FacetGrid at 0x7f61a9b95da0>"
            ]
          },
          "metadata": {
            "tags": []
          },
          "execution_count": 65
        },
        {
          "output_type": "display_data",
          "data": {
            "image/png": "[encoded data removed]",
            "text/plain": [
              "<Figure size 360x360 with 1 Axes>"
            ]
          },
          "metadata": {
            "tags": []
          }
        }
      ]
    },
    {
      "cell_type": "code",
      "metadata": {
        "id": "UgnYmKOEDeXy",
        "colab_type": "code",
        "outputId": "43d54031-f1fd-4916-fe79-268f29380c59",
        "colab": {
          "base_uri": "https://localhost:8080/",
          "height": 386
        }
      },
      "source": [
        "#Scatter plot for proposed fleet\n",
        "sns.lmplot(vdf_proposed.columns[0],vdf_proposed.columns[1],data = vdf_proposed,fit_reg=False)"
      ],
      "execution_count": 0,
      "outputs": [
        {
          "output_type": "execute_result",
          "data": {
            "text/plain": [
              "<seaborn.axisgrid.FacetGrid at 0x7f61a9b95748>"
            ]
          },
          "metadata": {
            "tags": []
          },
          "execution_count": 66
        },
        {
          "output_type": "display_data",
          "data": {
            "image/png": "[encoded data removed]",
            "text/plain": [
              "<Figure size 360x360 with 1 Axes>"
            ]
          },
          "metadata": {
            "tags": []
          }
        }
      ]
    },
    {
      "cell_type": "code",
      "metadata": {
        "id": "fV-kGbEH0Qox",
        "colab_type": "code",
        "outputId": "ae4022f8-8c9f-4971-8baf-eec411eef19b",
        "colab": {
          "base_uri": "https://localhost:8080/",
          "height": 282
        }
      },
      "source": [
        "#Histogram for current fleet\n",
        "data_current = vdf_current[vdf_current.columns[1]].values\n",
        "sns.distplot(data_current,bins = 20, kde=False,rug= True)"
      ],
      "execution_count": 0,
      "outputs": [
        {
          "output_type": "execute_result",
          "data": {
            "text/plain": [
              "<matplotlib.axes._subplots.AxesSubplot at 0x7f61a996db70>"
            ]
          },
          "metadata": {
            "tags": []
          },
          "execution_count": 67
        },
        {
          "output_type": "display_data",
          "data": {
            "image/png": "[encoded data removed]",
            "text/plain": [
              "<Figure size 432x288 with 1 Axes>"
            ]
          },
          "metadata": {
            "tags": []
          }
        }
      ]
    },
    {
      "cell_type": "code",
      "metadata": {
        "id": "Yo-NatXJ2gm3",
        "colab_type": "code",
        "outputId": "3472fe81-528f-4cc2-a3e4-694bff560c4a",
        "colab": {
          "base_uri": "https://localhost:8080/",
          "height": 282
        }
      },
      "source": [
        "#Histogram for proposed fleet\n",
        "data_prop = vdf_proposed[vdf_proposed.columns[1]].values\n",
        "sns.distplot(data_prop,bins = 20, kde=False,rug= True)"
      ],
      "execution_count": 0,
      "outputs": [
        {
          "output_type": "execute_result",
          "data": {
            "text/plain": [
              "<matplotlib.axes._subplots.AxesSubplot at 0x7f61aa976f28>"
            ]
          },
          "metadata": {
            "tags": []
          },
          "execution_count": 68
        },
        {
          "output_type": "display_data",
          "data": {
            "image/png": "[encoded data removed]",
            "text/plain": [
              "<Figure size 432x288 with 1 Axes>"
            ]
          },
          "metadata": {
            "tags": []
          }
        }
      ]
    },
    {
      "cell_type": "markdown",
      "metadata": {
        "id": "oBbGF0Xt4fdp",
        "colab_type": "text"
      },
      "source": [
        "(3) Bootstrap on the vehicles dataset"
      ]
    },
    {
      "cell_type": "code",
      "metadata": {
        "id": "pA184PKp4jUc",
        "colab_type": "code",
        "outputId": "353e3ec5-7d4a-4501-ff94-8254215809c0",
        "colab": {
          "base_uri": "https://localhost:8080/",
          "height": 51
        }
      },
      "source": [
        "#Lets do bootstrap with the current and new fleet\n",
        "current_cars = vdf_current.values.T[1] \n",
        "proposed_cars = vdf_proposed.values.T[1] \n",
        "\n",
        "mean_current = np.mean(current_cars)\n",
        "mean_proposed = np.mean(proposed_cars)\n",
        "\n",
        "print(\"The mean of the current fleet is: \" + str(mean_current))\n",
        "print(\"The mean of the new fleet is: \" + str(mean_proposed))"
      ],
      "execution_count": 0,
      "outputs": [
        {
          "output_type": "stream",
          "text": [
            "The mean of the current fleet is: 20.14457831325301\n",
            "The mean of the new fleet is: 30.481012658227847\n"
          ],
          "name": "stdout"
        }
      ]
    },
    {
      "cell_type": "code",
      "metadata": {
        "id": "4YG7LlC-8xd9",
        "colab_type": "code",
        "outputId": "2b0b7420-6099-41fd-97c9-fbcb04869fc5",
        "colab": {
          "base_uri": "https://localhost:8080/",
          "height": 68
        }
      },
      "source": [
        "#Bootstrap for current fleet\n",
        "current_mean,current_lower,current_upper = bootstrap_mean_ci(current_cars,current_cars.shape[0],1000,90)\n",
        "print(\"The mean for current fleet: \"+ str(current_mean))\n",
        "print(\"The lower bound for current fleet: \" + str(current_lower))\n",
        "print(\"The upper bound for current fleet: \" + str(current_upper))"
      ],
      "execution_count": 0,
      "outputs": [
        {
          "output_type": "stream",
          "text": [
            "The mean for current fleet: 20.14087495700264\n",
            "The lower bound for current fleet: 19.44578313253012\n",
            "The upper bound for current fleet: 20.799196787148595\n"
          ],
          "name": "stdout"
        }
      ]
    },
    {
      "cell_type": "code",
      "metadata": {
        "id": "UYZshzd0IMdr",
        "colab_type": "code",
        "outputId": "d503c3e4-2263-4347-d5ce-258948517506",
        "colab": {
          "base_uri": "https://localhost:8080/",
          "height": 68
        }
      },
      "source": [
        "new_mean,new_lower,new_upper = bootstrap_mean_ci(proposed_cars,proposed_cars.shape[0],1000,90)\n",
        "print(\"The mean for current fleet: \"+ str(new_mean))\n",
        "print(\"The lower bound for current fleet: \" + str(new_lower))\n",
        "print(\"The upper bound for current fleet: \" + str(new_upper))"
      ],
      "execution_count": 0,
      "outputs": [
        {
          "output_type": "stream",
          "text": [
            "The mean for current fleet: 30.505919873558817\n",
            "The lower bound for current fleet: 29.367088607594937\n",
            "The upper bound for current fleet: 31.59493670886076\n"
          ],
          "name": "stdout"
        }
      ]
    },
    {
      "cell_type": "markdown",
      "metadata": {
        "id": "zyvZsv9lJzrh",
        "colab_type": "text"
      },
      "source": [
        "Premutation test"
      ]
    },
    {
      "cell_type": "code",
      "metadata": {
        "id": "7Y75mZqtJ1sO",
        "colab_type": "code",
        "colab": {}
      },
      "source": [
        "def permutation_test(data_1,data_2,n_permutations):\n",
        "  t_obs = np.mean(data_2) - np.mean(data_1)\n",
        "  print(t_obs)\n",
        "  count = 0\n",
        "  for x in range(n_permutations):\n",
        "    concat = np.concatenate((data_1,data_2))\n",
        "    perm = np.random.permutation(concat)\n",
        "    pold = perm[:int(len(data_1))-1]\n",
        "    pnew = perm[int(len(data_1)):]\n",
        "   \n",
        "    t_perm = np.mean(pnew)- np.mean(pold)\n",
        "    if t_perm > t_obs:\n",
        "      count += 1\n",
        "\n",
        "  p_value = count / n_permutations\n",
        "\n",
        "  return p_value"
      ],
      "execution_count": 0,
      "outputs": []
    },
    {
      "cell_type": "code",
      "metadata": {
        "id": "FWhS9HdXOUcz",
        "colab_type": "code",
        "outputId": "25518ead-278c-48e5-b33f-d8fca5c072e5",
        "colab": {
          "base_uri": "https://localhost:8080/",
          "height": 51
        }
      },
      "source": [
        "p_value = permutation_test(current_cars,proposed_cars,20000)\n",
        "print(p_value)"
      ],
      "execution_count": 0,
      "outputs": [
        {
          "output_type": "stream",
          "text": [
            "10.336434344974837\n",
            "0.0\n"
          ],
          "name": "stdout"
        }
      ]
    },
    {
      "cell_type": "markdown",
      "metadata": {
        "id": "l3a1uCkQTNrQ",
        "colab_type": "text"
      },
      "source": [
        "Conclusion:\n",
        "There is a difference between the two vehicle fleets, in this case, we conclude that the new fleet has a better MPG expenditure."
      ]
    },
    {
      "cell_type": "code",
      "metadata": {
        "id": "HgVoWRyPTaHa",
        "colab_type": "code",
        "colab": {}
      },
      "source": [
        ""
      ],
      "execution_count": 0,
      "outputs": []
    }
  ]
}