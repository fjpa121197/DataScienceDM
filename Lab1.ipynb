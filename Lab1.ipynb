{
  "nbformat": 4,
  "nbformat_minor": 0,
  "metadata": {
    "colab": {
      "name": "Lab1.ipynb",
      "provenance": [],
      "collapsed_sections": [],
      "authorship_tag": "ABX9TyNoxVVmTVr+NlyElFfAFL/E",
      "include_colab_link": true
    },
    "kernelspec": {
      "name": "python3",
      "display_name": "Python 3"
    }
  },
  "cells": [
    {
      "cell_type": "markdown",
      "metadata": {
        "id": "view-in-github",
        "colab_type": "text"
      },
      "source": [
        "<a href=\"https://colab.research.google.com/github/fjpa121197/DataScienceDM/blob/master/Lab1.ipynb\" target=\"_parent\"><img src=\"https://colab.research.google.com/assets/colab-badge.svg\" alt=\"Open In Colab\"/></a>"
      ]
    },
    {
      "cell_type": "code",
      "metadata": {
        "id": "scv8Zwhfihon",
        "colab_type": "code",
        "colab": {}
      },
      "source": [
        "import numpy as np"
      ],
      "execution_count": 0,
      "outputs": []
    },
    {
      "cell_type": "code",
      "metadata": {
        "id": "5foXctmGwI-V",
        "colab_type": "code",
        "colab": {}
      },
      "source": [
        ""
      ],
      "execution_count": 0,
      "outputs": []
    },
    {
      "cell_type": "markdown",
      "metadata": {
        "id": "zNs9Sok9wJbM",
        "colab_type": "text"
      },
      "source": [
        "1.Create a (4 x 2) integer array and print it's attributes"
      ]
    },
    {
      "cell_type": "code",
      "metadata": {
        "id": "YL_MvYfIijmt",
        "colab_type": "code",
        "colab": {}
      },
      "source": [
        "first_array = np.empty([4,2],dtype=np.int32)"
      ],
      "execution_count": 0,
      "outputs": []
    },
    {
      "cell_type": "code",
      "metadata": {
        "id": "U5bpMkhLkZxS",
        "colab_type": "code",
        "outputId": "5d794db9-eced-403a-9b4f-b78dfed399e9",
        "colab": {
          "base_uri": "https://localhost:8080/",
          "height": 102
        }
      },
      "source": [
        "print(type(first_array))\n",
        "print(first_array.ndim)\n",
        "print(first_array.shape)\n",
        "print(first_array.itemsize)\n",
        "print(first_array.nbytes)"
      ],
      "execution_count": 0,
      "outputs": [
        {
          "output_type": "stream",
          "text": [
            "<class 'numpy.ndarray'>\n",
            "2\n",
            "(4, 2)\n",
            "4\n",
            "32\n"
          ],
          "name": "stdout"
        }
      ]
    },
    {
      "cell_type": "code",
      "metadata": {
        "id": "5AzhiEN9kzeU",
        "colab_type": "code",
        "outputId": "4d449b81-36f9-48e2-ea84-867930db37fc",
        "colab": {
          "base_uri": "https://localhost:8080/",
          "height": 85
        }
      },
      "source": [
        "print(first_array)"
      ],
      "execution_count": 0,
      "outputs": [
        {
          "output_type": "stream",
          "text": [
            "[[1 0]\n",
            " [1 0]\n",
            " [1 0]\n",
            " [0 0]]\n"
          ],
          "name": "stdout"
        }
      ]
    },
    {
      "cell_type": "markdown",
      "metadata": {
        "id": "h9xQnLaPwOsz",
        "colab_type": "text"
      },
      "source": [
        "2.Create an array of dimension (1,10) and sort it in ascending and descending order"
      ]
    },
    {
      "cell_type": "code",
      "metadata": {
        "id": "M8Zm6WYWlbXO",
        "colab_type": "code",
        "outputId": "8bb9f1e6-6448-4bb8-9f2e-0a50a5808f87",
        "colab": {
          "base_uri": "https://localhost:8080/",
          "height": 68
        }
      },
      "source": [
        "second_array = np.empty([1,10],dtype=np.int16)\n",
        "print(second_array)\n",
        "sorted_ascending = np.sort(second_array)\n",
        "print(sorted_ascending)\n",
        "sorted_descending = -np.sort(-second_array)\n",
        "print(sorted_descending)"
      ],
      "execution_count": 0,
      "outputs": [
        {
          "output_type": "stream",
          "text": [
            "[[28288  1193   105    40     0     0     0     0     0     0]]\n",
            "[[    0     0     0     0     0     0    40   105  1193 28288]]\n",
            "[[28288  1193   105    40     0     0     0     0     0     0]]\n"
          ],
          "name": "stdout"
        }
      ]
    },
    {
      "cell_type": "markdown",
      "metadata": {
        "id": "jyQngejJwaH9",
        "colab_type": "text"
      },
      "source": [
        "3.Convert an 1D array [1 2 3 4 5 6 7 8 9] to 2D array [[1 2 3], [4 5 6], [7 8 9]]"
      ]
    },
    {
      "cell_type": "code",
      "metadata": {
        "id": "elQFwJVAoqb1",
        "colab_type": "code",
        "colab": {}
      },
      "source": [
        "third_array = np.arange(1,10)\n",
        "third_array_n = third_array.reshape([3,3])\n",
        "third_array_n"
      ],
      "execution_count": 0,
      "outputs": []
    },
    {
      "cell_type": "markdown",
      "metadata": {
        "id": "tyjx_aXHwhC7",
        "colab_type": "text"
      },
      "source": [
        "4.Stack two arrays of any size horizontally and vertically"
      ]
    },
    {
      "cell_type": "code",
      "metadata": {
        "id": "zXneQdtRrYJp",
        "colab_type": "code",
        "outputId": "5f5ca403-bc5e-40dd-b689-3299f4885544",
        "colab": {
          "base_uri": "https://localhost:8080/",
          "height": 68
        }
      },
      "source": [
        "fourth_array_1 = np.array([[2,3],[3,2]])\n",
        "fourth_array_2 = np.array([[5,6]])\n",
        "print(fourth_array_1)\n",
        "print(fourth_array_2)\n",
        "fourth_concat_1 = np.concatenate((fourth_array_1,fourth_array_2),axis = 0)\n",
        "fourth_concat_2 = np.concatenate((fourth_array_1,fourth_array_2.T),axis = 1)\n",
        "print(fourth_concat_1)\n",
        "print(fourth_concat_2)"
      ],
      "execution_count": 0,
      "outputs": [
        {
          "output_type": "stream",
          "text": [
            "[[2 3]\n",
            " [3 2]]\n",
            "[[5 6]]\n"
          ],
          "name": "stdout"
        }
      ]
    },
    {
      "cell_type": "markdown",
      "metadata": {
        "id": "DuczUYUpwmC8",
        "colab_type": "text"
      },
      "source": [
        "5.Create two array of same size and find commom elements"
      ]
    },
    {
      "cell_type": "code",
      "metadata": {
        "id": "VoqQZvHiwsK2",
        "colab_type": "code",
        "outputId": "550c6078-e36d-4e9b-a2af-63955af064c1",
        "colab": {
          "base_uri": "https://localhost:8080/",
          "height": 68
        }
      },
      "source": [
        "fifth_array_1 = np.arange(1,10,2)\n",
        "fifth_array_2 = np.arange(1,11,3)\n",
        "print(fifth_array_1)\n",
        "print(fifth_array_2)\n",
        "np.intersect1d(fifth_array_1,fifth_array_2)"
      ],
      "execution_count": 0,
      "outputs": [
        {
          "output_type": "stream",
          "text": [
            "[1 3 5 7 9]\n",
            "[ 1  4  7 10]\n"
          ],
          "name": "stdout"
        },
        {
          "output_type": "execute_result",
          "data": {
            "text/plain": [
              "array([1, 7])"
            ]
          },
          "metadata": {
            "tags": []
          },
          "execution_count": 95
        }
      ]
    },
    {
      "cell_type": "markdown",
      "metadata": {
        "id": "C8ZQTy8_zk7r",
        "colab_type": "text"
      },
      "source": [
        "6.Create a 2D array of 5 by 5 and find the min and max values from each row and each column"
      ]
    },
    {
      "cell_type": "code",
      "metadata": {
        "id": "zYHxqcu0znuy",
        "colab_type": "code",
        "outputId": "71f608bc-d5e1-458c-b8be-7dd4ad1b0f5f",
        "colab": {
          "base_uri": "https://localhost:8080/",
          "height": 136
        }
      },
      "source": [
        "sixth_array = np.random.random((5,5))\n",
        "print(sixth_array)\n",
        "min_sixth = sixth_array.min()\n",
        "print(min_sixth)\n",
        "max_sixth = sixth_array.max()\n",
        "print(max_sixth)"
      ],
      "execution_count": 0,
      "outputs": [
        {
          "output_type": "stream",
          "text": [
            "[[0.82786769 0.93110713 0.0745966  0.4987093  0.70386829]\n",
            " [0.98357257 0.98010355 0.07328624 0.83742843 0.32320124]\n",
            " [0.62342566 0.48016811 0.18077824 0.03501108 0.01126717]\n",
            " [0.10073715 0.92713857 0.04578105 0.353887   0.916421  ]\n",
            " [0.61707269 0.08853664 0.0639699  0.70629561 0.34020858]]\n",
            "0.011267170419579253\n",
            "0.9835725663429681\n"
          ],
          "name": "stdout"
        }
      ]
    },
    {
      "cell_type": "markdown",
      "metadata": {
        "id": "7epDlWx91F70",
        "colab_type": "text"
      },
      "source": [
        "7.Create an array of size 100 and compute the mean, median, standard deviation."
      ]
    },
    {
      "cell_type": "code",
      "metadata": {
        "id": "HTsOi6pg1KHh",
        "colab_type": "code",
        "outputId": "2c549fd1-99c1-47ae-dd34-f356b45dabb6",
        "colab": {
          "base_uri": "https://localhost:8080/",
          "height": 51
        }
      },
      "source": [
        "seventh_array = np.random.random((1,100))\n",
        "print(seventh_array.size)\n",
        "mean_seventh = seventh_array.mean()\n",
        "median_seventh = np.median(seventh_array)\n",
        "std_seventh = np.std(seventh_array)\n",
        "print(mean_seventh,median_seventh,std_seventh)"
      ],
      "execution_count": 0,
      "outputs": [
        {
          "output_type": "stream",
          "text": [
            "100\n",
            "0.46304394518199593 0.45535462137750543 0.2746448268014783\n"
          ],
          "name": "stdout"
        }
      ]
    },
    {
      "cell_type": "markdown",
      "metadata": {
        "id": "LULxX3p83PZ7",
        "colab_type": "text"
      },
      "source": [
        "8.Normalize a 5x5 random matrix"
      ]
    },
    {
      "cell_type": "code",
      "metadata": {
        "id": "hwYhlYLw3RTh",
        "colab_type": "code",
        "outputId": "743a7b9e-cbf8-41a0-da7c-fd3118f308e7",
        "colab": {
          "base_uri": "https://localhost:8080/",
          "height": 102
        }
      },
      "source": [
        "eighth_matrix = np.random.random((5,5))\n",
        "print(eighth_matrix)"
      ],
      "execution_count": 0,
      "outputs": [
        {
          "output_type": "stream",
          "text": [
            "[[0.61792405 0.40497434 0.85976771 0.69601829 0.99698232]\n",
            " [0.99056378 0.96894098 0.70052723 0.4178105  0.00178777]\n",
            " [0.0853502  0.88870505 0.21535266 0.67098505 0.8606311 ]\n",
            " [0.6702036  0.38764685 0.60927233 0.52386051 0.76100051]\n",
            " [0.44269504 0.18583967 0.08938243 0.77759179 0.16302052]]\n"
          ],
          "name": "stdout"
        }
      ]
    },
    {
      "cell_type": "markdown",
      "metadata": {
        "id": "beeLMqM06cMs",
        "colab_type": "text"
      },
      "source": [
        "Preguntar sobre standar scaler"
      ]
    },
    {
      "cell_type": "code",
      "metadata": {
        "id": "MOajNvWu5jJO",
        "colab_type": "code",
        "outputId": "6f5aece2-b282-41a4-e892-881b2ac3a7a7",
        "colab": {
          "base_uri": "https://localhost:8080/",
          "height": 119
        }
      },
      "source": [
        "xmax, xmin = eighth_matrix.max(), eighth_matrix.min()\n",
        "eighth_matrix = (eighth_matrix - xmin)/(xmax - xmin)\n",
        "print(\"After normalization:\")\n",
        "print(eighth_matrix)"
      ],
      "execution_count": 0,
      "outputs": [
        {
          "output_type": "stream",
          "text": [
            "After normalization:\n",
            "[[0.61911139 0.40513342 0.86212283 0.69758272 1.        ]\n",
            " [0.99355047 0.97182326 0.70211343 0.41803157 0.        ]\n",
            " [0.08396593 0.8911999  0.21459613 0.6724286  0.86299039]\n",
            " [0.67164338 0.38772226 0.6104179  0.52459365 0.76287872]\n",
            " [0.44303626 0.18494063 0.08801763 0.77955011 0.16201129]]\n"
          ],
          "name": "stdout"
        }
      ]
    },
    {
      "cell_type": "markdown",
      "metadata": {
        "id": "znpcKqcm63HE",
        "colab_type": "text"
      },
      "source": [
        "9.Consider an array of dimension (4,4,3), how to mulitply it by an array with dimensions (4,4)?\n"
      ]
    },
    {
      "cell_type": "code",
      "metadata": {
        "id": "u0JuY8ML66o1",
        "colab_type": "code",
        "colab": {}
      },
      "source": [
        "last1_array= np.random.random((4,4,3))\n",
        "last2_array= np.random.random((4,4))"
      ],
      "execution_count": 0,
      "outputs": []
    },
    {
      "cell_type": "code",
      "metadata": {
        "id": "6n0CyJ-27ubZ",
        "colab_type": "code",
        "outputId": "34b36618-14e5-41f2-fe57-9b9848bf22d6",
        "colab": {
          "base_uri": "https://localhost:8080/",
          "height": 340
        }
      },
      "source": [
        "print(last1_array)"
      ],
      "execution_count": 0,
      "outputs": [
        {
          "output_type": "stream",
          "text": [
            "[[[0.91415107 0.0024431  0.78855345]\n",
            "  [0.28736717 0.6874105  0.28701784]\n",
            "  [0.61526071 0.92105713 0.96071759]\n",
            "  [0.27682621 0.95908228 0.62957496]]\n",
            "\n",
            " [[0.48399118 0.79658715 0.35044938]\n",
            "  [0.88863417 0.06029217 0.23760366]\n",
            "  [0.26233958 0.12210253 0.12279559]\n",
            "  [0.86895318 0.84167299 0.29670549]]\n",
            "\n",
            " [[0.65411403 0.42195753 0.11594314]\n",
            "  [0.20559794 0.10497207 0.43521465]\n",
            "  [0.58807962 0.36896958 0.04378684]\n",
            "  [0.71020441 0.47358365 0.21192831]]\n",
            "\n",
            " [[0.33195886 0.63476653 0.68784487]\n",
            "  [0.12350879 0.95923623 0.16795745]\n",
            "  [0.2013851  0.92674347 0.07405552]\n",
            "  [0.75204598 0.98692393 0.75851162]]]\n"
          ],
          "name": "stdout"
        }
      ]
    },
    {
      "cell_type": "code",
      "metadata": {
        "id": "_R6LAN9w7v_b",
        "colab_type": "code",
        "outputId": "5655b10a-ec0e-4e6a-e5e5-3408751c5908",
        "colab": {
          "base_uri": "https://localhost:8080/",
          "height": 85
        }
      },
      "source": [
        "print(last2_array)"
      ],
      "execution_count": 0,
      "outputs": [
        {
          "output_type": "stream",
          "text": [
            "[[0.57419942 0.83871967 0.54041102 0.51750322]\n",
            " [0.13531231 0.67468379 0.81221461 0.55473337]\n",
            " [0.99528795 0.64693184 0.94693509 0.02141234]\n",
            " [0.8111919  0.29839346 0.21902584 0.00887703]]\n"
          ],
          "name": "stdout"
        }
      ]
    },
    {
      "cell_type": "code",
      "metadata": {
        "id": "4hTaD67B8gGW",
        "colab_type": "code",
        "colab": {}
      },
      "source": [
        ""
      ],
      "execution_count": 0,
      "outputs": []
    }
  ]
}