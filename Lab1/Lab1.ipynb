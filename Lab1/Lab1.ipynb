{
  "nbformat": 4,
  "nbformat_minor": 0,
  "metadata": {
    "colab": {
      "name": "Lab1.ipynb",
      "provenance": [],
      "collapsed_sections": [],
      "authorship_tag": "ABX9TyP076CqYCBT1kCDDgVg1JGn",
      "include_colab_link": true
    },
    "kernelspec": {
      "name": "python3",
      "display_name": "Python 3"
    }
  },
  "cells": [
    {
      "cell_type": "markdown",
      "metadata": {
        "id": "view-in-github",
        "colab_type": "text"
      },
      "source": [
        "<a href=\"https://colab.research.google.com/github/fjpa121197/DataScienceDM/blob/master/Lab1/Lab1.ipynb\" target=\"_parent\"><img src=\"https://colab.research.google.com/assets/colab-badge.svg\" alt=\"Open In Colab\"/></a>"
      ]
    },
    {
      "cell_type": "code",
      "metadata": {
        "id": "scv8Zwhfihon",
        "colab_type": "code",
        "colab": {}
      },
      "source": [
        "import numpy as np\n",
        "from sklearn import preprocessing"
      ],
      "execution_count": 0,
      "outputs": []
    },
    {
      "cell_type": "code",
      "metadata": {
        "id": "5foXctmGwI-V",
        "colab_type": "code",
        "colab": {}
      },
      "source": [
        ""
      ],
      "execution_count": 0,
      "outputs": []
    },
    {
      "cell_type": "markdown",
      "metadata": {
        "id": "zNs9Sok9wJbM",
        "colab_type": "text"
      },
      "source": [
        "1.Create a (4 x 2) integer array and print it's attributes"
      ]
    },
    {
      "cell_type": "code",
      "metadata": {
        "id": "YL_MvYfIijmt",
        "colab_type": "code",
        "colab": {}
      },
      "source": [
        "first_array = np.empty([4,2],dtype=np.int32)"
      ],
      "execution_count": 0,
      "outputs": []
    },
    {
      "cell_type": "code",
      "metadata": {
        "id": "U5bpMkhLkZxS",
        "colab_type": "code",
        "outputId": "868dca64-8d1b-4b45-d9bc-faed75b95ea3",
        "colab": {
          "base_uri": "https://localhost:8080/",
          "height": 102
        }
      },
      "source": [
        "print(type(first_array))\n",
        "print(first_array.ndim)\n",
        "print(first_array.shape)\n",
        "print(first_array.itemsize)\n",
        "print(first_array.nbytes)"
      ],
      "execution_count": 0,
      "outputs": [
        {
          "output_type": "stream",
          "text": [
            "<class 'numpy.ndarray'>\n",
            "2\n",
            "(4, 2)\n",
            "4\n",
            "32\n"
          ],
          "name": "stdout"
        }
      ]
    },
    {
      "cell_type": "code",
      "metadata": {
        "id": "5AzhiEN9kzeU",
        "colab_type": "code",
        "outputId": "f059ccef-b117-40eb-88a5-47da36bf857e",
        "colab": {
          "base_uri": "https://localhost:8080/",
          "height": 85
        }
      },
      "source": [
        "print(first_array)"
      ],
      "execution_count": 0,
      "outputs": [
        {
          "output_type": "stream",
          "text": [
            "[[         0 1072693248]\n",
            " [         0 1072693248]\n",
            " [         0 1072693248]\n",
            " [         0          0]]\n"
          ],
          "name": "stdout"
        }
      ]
    },
    {
      "cell_type": "markdown",
      "metadata": {
        "id": "h9xQnLaPwOsz",
        "colab_type": "text"
      },
      "source": [
        "2.Create an array of dimension (1,10) and sort it in ascending and descending order"
      ]
    },
    {
      "cell_type": "code",
      "metadata": {
        "id": "M8Zm6WYWlbXO",
        "colab_type": "code",
        "outputId": "8bb9f1e6-6448-4bb8-9f2e-0a50a5808f87",
        "colab": {
          "base_uri": "https://localhost:8080/",
          "height": 68
        }
      },
      "source": [
        "second_array = np.empty([1,10],dtype=np.int16)\n",
        "print(second_array)\n",
        "sorted_ascending = np.sort(second_array)\n",
        "print(sorted_ascending)\n",
        "sorted_descending = -np.sort(-second_array)\n",
        "print(sorted_descending)"
      ],
      "execution_count": 0,
      "outputs": [
        {
          "output_type": "stream",
          "text": [
            "[[28288  1193   105    40     0     0     0     0     0     0]]\n",
            "[[    0     0     0     0     0     0    40   105  1193 28288]]\n",
            "[[28288  1193   105    40     0     0     0     0     0     0]]\n"
          ],
          "name": "stdout"
        }
      ]
    },
    {
      "cell_type": "markdown",
      "metadata": {
        "id": "jyQngejJwaH9",
        "colab_type": "text"
      },
      "source": [
        "3.Convert an 1D array [1 2 3 4 5 6 7 8 9] to 2D array [[1 2 3], [4 5 6], [7 8 9]]"
      ]
    },
    {
      "cell_type": "code",
      "metadata": {
        "id": "elQFwJVAoqb1",
        "colab_type": "code",
        "colab": {}
      },
      "source": [
        "third_array = np.arange(1,10)\n",
        "third_array_n = third_array.reshape([3,3])\n",
        "third_array_n"
      ],
      "execution_count": 0,
      "outputs": []
    },
    {
      "cell_type": "markdown",
      "metadata": {
        "id": "tyjx_aXHwhC7",
        "colab_type": "text"
      },
      "source": [
        "4.Stack two arrays of any size horizontally and vertically"
      ]
    },
    {
      "cell_type": "code",
      "metadata": {
        "id": "zXneQdtRrYJp",
        "colab_type": "code",
        "outputId": "5f5ca403-bc5e-40dd-b689-3299f4885544",
        "colab": {
          "base_uri": "https://localhost:8080/",
          "height": 68
        }
      },
      "source": [
        "fourth_array_1 = np.array([[2,3],[3,2]])\n",
        "fourth_array_2 = np.array([[5,6]])\n",
        "print(fourth_array_1)\n",
        "print(fourth_array_2)\n",
        "fourth_concat_1 = np.concatenate((fourth_array_1,fourth_array_2),axis = 0)\n",
        "fourth_concat_2 = np.concatenate((fourth_array_1,fourth_array_2.T),axis = 1)\n",
        "print(fourth_concat_1)\n",
        "print(fourth_concat_2)"
      ],
      "execution_count": 0,
      "outputs": [
        {
          "output_type": "stream",
          "text": [
            "[[2 3]\n",
            " [3 2]]\n",
            "[[5 6]]\n"
          ],
          "name": "stdout"
        }
      ]
    },
    {
      "cell_type": "markdown",
      "metadata": {
        "id": "DuczUYUpwmC8",
        "colab_type": "text"
      },
      "source": [
        "5.Create two array of same size and find commom elements"
      ]
    },
    {
      "cell_type": "code",
      "metadata": {
        "id": "VoqQZvHiwsK2",
        "colab_type": "code",
        "outputId": "550c6078-e36d-4e9b-a2af-63955af064c1",
        "colab": {
          "base_uri": "https://localhost:8080/",
          "height": 68
        }
      },
      "source": [
        "fifth_array_1 = np.arange(1,10,2)\n",
        "fifth_array_2 = np.arange(1,11,3)\n",
        "print(fifth_array_1)\n",
        "print(fifth_array_2)\n",
        "np.intersect1d(fifth_array_1,fifth_array_2)"
      ],
      "execution_count": 0,
      "outputs": [
        {
          "output_type": "stream",
          "text": [
            "[1 3 5 7 9]\n",
            "[ 1  4  7 10]\n"
          ],
          "name": "stdout"
        },
        {
          "output_type": "execute_result",
          "data": {
            "text/plain": [
              "array([1, 7])"
            ]
          },
          "metadata": {
            "tags": []
          },
          "execution_count": 95
        }
      ]
    },
    {
      "cell_type": "markdown",
      "metadata": {
        "id": "C8ZQTy8_zk7r",
        "colab_type": "text"
      },
      "source": [
        "6.Create a 2D array of 5 by 5 and find the min and max values from each row and each column"
      ]
    },
    {
      "cell_type": "code",
      "metadata": {
        "id": "zYHxqcu0znuy",
        "colab_type": "code",
        "outputId": "71f608bc-d5e1-458c-b8be-7dd4ad1b0f5f",
        "colab": {
          "base_uri": "https://localhost:8080/",
          "height": 136
        }
      },
      "source": [
        "sixth_array = np.random.random((5,5))\n",
        "print(sixth_array)\n",
        "min_sixth = sixth_array.min()\n",
        "print(min_sixth)\n",
        "max_sixth = sixth_array.max()\n",
        "print(max_sixth)"
      ],
      "execution_count": 0,
      "outputs": [
        {
          "output_type": "stream",
          "text": [
            "[[0.82786769 0.93110713 0.0745966  0.4987093  0.70386829]\n",
            " [0.98357257 0.98010355 0.07328624 0.83742843 0.32320124]\n",
            " [0.62342566 0.48016811 0.18077824 0.03501108 0.01126717]\n",
            " [0.10073715 0.92713857 0.04578105 0.353887   0.916421  ]\n",
            " [0.61707269 0.08853664 0.0639699  0.70629561 0.34020858]]\n",
            "0.011267170419579253\n",
            "0.9835725663429681\n"
          ],
          "name": "stdout"
        }
      ]
    },
    {
      "cell_type": "markdown",
      "metadata": {
        "id": "7epDlWx91F70",
        "colab_type": "text"
      },
      "source": [
        "7.Create an array of size 100 and compute the mean, median, standard deviation."
      ]
    },
    {
      "cell_type": "code",
      "metadata": {
        "id": "HTsOi6pg1KHh",
        "colab_type": "code",
        "outputId": "2c549fd1-99c1-47ae-dd34-f356b45dabb6",
        "colab": {
          "base_uri": "https://localhost:8080/",
          "height": 51
        }
      },
      "source": [
        "seventh_array = np.random.random((1,100))\n",
        "print(seventh_array.size)\n",
        "mean_seventh = seventh_array.mean()\n",
        "median_seventh = np.median(seventh_array)\n",
        "std_seventh = np.std(seventh_array)\n",
        "print(mean_seventh,median_seventh,std_seventh)"
      ],
      "execution_count": 0,
      "outputs": [
        {
          "output_type": "stream",
          "text": [
            "100\n",
            "0.46304394518199593 0.45535462137750543 0.2746448268014783\n"
          ],
          "name": "stdout"
        }
      ]
    },
    {
      "cell_type": "markdown",
      "metadata": {
        "id": "LULxX3p83PZ7",
        "colab_type": "text"
      },
      "source": [
        "8.Normalize a 5x5 random matrix"
      ]
    },
    {
      "cell_type": "code",
      "metadata": {
        "id": "hwYhlYLw3RTh",
        "colab_type": "code",
        "outputId": "c8456ef6-8b55-40b8-f624-f1748aec89ea",
        "colab": {
          "base_uri": "https://localhost:8080/",
          "height": 221
        }
      },
      "source": [
        "eighth_matrix = np.random.random((5,5))\n",
        "print(eighth_matrix)\n",
        "xmax, xmin = eighth_matrix.max(), eighth_matrix.min()\n",
        "eighth_matrix = (eighth_matrix - xmin)/(xmax - xmin)\n",
        "print(\"After normalization:\")\n",
        "print(eighth_matrix)\n",
        "print(\"Credits to user from stackoverflow\")"
      ],
      "execution_count": 0,
      "outputs": [
        {
          "output_type": "stream",
          "text": [
            "[[0.52264081 0.91376373 0.66730061 0.10323858 0.08698004]\n",
            " [0.30023966 0.14503927 0.56613273 0.8065983  0.33700743]\n",
            " [0.95757628 0.44136037 0.83871385 0.22308243 0.05657548]\n",
            " [0.53373661 0.71828826 0.53971111 0.71332518 0.46235294]\n",
            " [0.65868822 0.00401047 0.45987438 0.83676141 0.81225017]]\n",
            "After normalization:\n",
            "[[0.54388521 0.95405398 0.69558926 0.10406005 0.0870098 ]\n",
            " [0.31065416 0.14789624 0.58949498 0.8416701  0.34921235]\n",
            " [1.         0.4586468  0.87534953 0.22973974 0.05512468]\n",
            " [0.55552133 0.74905977 0.56178675 0.74385502 0.4806616 ]\n",
            " [0.68655749 0.         0.47806235 0.87330202 0.84759719]]\n",
            "Credits to user from stackoverflow\n"
          ],
          "name": "stdout"
        }
      ]
    },
    {
      "cell_type": "code",
      "metadata": {
        "id": "ccer6i0fNXln",
        "colab_type": "code",
        "outputId": "68f7f217-8f96-41c5-943b-bb35d113f3e6",
        "colab": {
          "base_uri": "https://localhost:8080/",
          "height": 187
        }
      },
      "source": [
        "lol = np.random.random((5,5))\n",
        "print(lol)\n",
        "lol_n = preprocessing.normalize(lol)\n",
        "print(lol_n)"
      ],
      "execution_count": 0,
      "outputs": [
        {
          "output_type": "stream",
          "text": [
            "[[0.83384998 0.05727802 0.05997696 0.85606071 0.21012595]\n",
            " [0.2740144  0.6316511  0.45801616 0.5459629  0.65769879]\n",
            " [0.44377382 0.10499481 0.91372894 0.32266175 0.70672856]\n",
            " [0.23036904 0.54198051 0.63426229 0.33785866 0.20477509]\n",
            " [0.95327869 0.03416363 0.21156595 0.04578527 0.92235257]]\n",
            "[[0.6856112  0.04709534 0.04931448 0.70387338 0.17277053]\n",
            " [0.23039529 0.53110143 0.38510665 0.45905354 0.55300271]\n",
            " [0.34585122 0.08182678 0.7121066  0.25146359 0.55078268]\n",
            " [0.24213411 0.56965975 0.66665442 0.35511329 0.21523307]\n",
            " [0.70905669 0.02541119 0.15736453 0.03405547 0.68605358]]\n"
          ],
          "name": "stdout"
        }
      ]
    },
    {
      "cell_type": "markdown",
      "metadata": {
        "id": "znpcKqcm63HE",
        "colab_type": "text"
      },
      "source": [
        "9.Consider an array of dimension (4,4,3), how to mulitply it by an array with dimensions (4,4)?\n"
      ]
    },
    {
      "cell_type": "code",
      "metadata": {
        "id": "u0JuY8ML66o1",
        "colab_type": "code",
        "colab": {}
      },
      "source": [
        "last1_array= np.random.random((4,4,3))\n",
        "last2_array= np.random.random((4,4))"
      ],
      "execution_count": 0,
      "outputs": []
    },
    {
      "cell_type": "code",
      "metadata": {
        "id": "6n0CyJ-27ubZ",
        "colab_type": "code",
        "outputId": "0824c3be-284d-4549-a103-b712b13da3b6",
        "colab": {
          "base_uri": "https://localhost:8080/",
          "height": 85
        }
      },
      "source": [
        "print(last1_array[0])"
      ],
      "execution_count": 0,
      "outputs": [
        {
          "output_type": "stream",
          "text": [
            "[[0.82044282 0.42676236 0.30461586]\n",
            " [0.55039547 0.501096   0.14933011]\n",
            " [0.74076894 0.81717986 0.72862606]\n",
            " [0.0203691  0.165292   0.51966846]]\n"
          ],
          "name": "stdout"
        }
      ]
    },
    {
      "cell_type": "code",
      "metadata": {
        "id": "_R6LAN9w7v_b",
        "colab_type": "code",
        "outputId": "b1b9a279-e1b4-4a49-f431-ab035a874d18",
        "colab": {
          "base_uri": "https://localhost:8080/",
          "height": 85
        }
      },
      "source": [
        "print(last2_array)"
      ],
      "execution_count": 0,
      "outputs": [
        {
          "output_type": "stream",
          "text": [
            "[[0.01157211 0.73323779 0.40269645 0.23359737]\n",
            " [0.37616377 0.3820296  0.77911966 0.10495211]\n",
            " [0.54481157 0.79128162 0.61006972 0.6570205 ]\n",
            " [0.32086965 0.43066118 0.01940912 0.81689569]]\n"
          ],
          "name": "stdout"
        }
      ]
    },
    {
      "cell_type": "code",
      "metadata": {
        "id": "Dyuyu1q5_Pb6",
        "colab_type": "code",
        "colab": {}
      },
      "source": [
        "last_array=np.multiply(last1_array,last2_array[:,:,None])"
      ],
      "execution_count": 0,
      "outputs": []
    },
    {
      "cell_type": "code",
      "metadata": {
        "id": "pTefC8QhLCqm",
        "colab_type": "code",
        "outputId": "7e562509-0e8a-497e-a10f-53f548d0a30f",
        "colab": {
          "base_uri": "https://localhost:8080/",
          "height": 340
        }
      },
      "source": [
        "print(last_array)"
      ],
      "execution_count": 0,
      "outputs": [
        {
          "output_type": "stream",
          "text": [
            "[[[0.00949425 0.00493854 0.00352505]\n",
            "  [0.40357076 0.36742252 0.10949448]\n",
            "  [0.29830502 0.32907543 0.29341513]\n",
            "  [0.00475817 0.03861178 0.12139318]]\n",
            "\n",
            " [[0.08898149 0.0913772  0.05930961]\n",
            "  [0.02514036 0.27718107 0.06950504]\n",
            "  [0.62035182 0.10565557 0.19186292]\n",
            "  [0.01203837 0.09694309 0.0867238 ]]\n",
            "\n",
            " [[0.16160263 0.32068824 0.29360633]\n",
            "  [0.76202885 0.59518883 0.39426235]\n",
            "  [0.36564292 0.48297915 0.48394033]\n",
            "  [0.16479352 0.41513545 0.12714078]]\n",
            "\n",
            " [[0.00308105 0.04773749 0.06951499]\n",
            "  [0.09939864 0.15296635 0.23039802]\n",
            "  [0.01823059 0.00105899 0.00316378]\n",
            "  [0.44882638 0.66073335 0.27464285]]]\n"
          ],
          "name": "stdout"
        }
      ]
    },
    {
      "cell_type": "code",
      "metadata": {
        "id": "q6kcquneLS3J",
        "colab_type": "code",
        "colab": {}
      },
      "source": [
        ""
      ],
      "execution_count": 0,
      "outputs": []
    }
  ]
}