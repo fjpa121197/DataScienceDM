{
  "nbformat": 4,
  "nbformat_minor": 0,
  "metadata": {
    "colab": {
      "name": "Concepts_Exploration.ipynb",
      "provenance": [],
      "authorship_tag": "ABX9TyOpcN128s0cHwSA6pyrIq/n",
      "include_colab_link": true
    },
    "kernelspec": {
      "name": "python3",
      "display_name": "Python 3"
    }
  },
  "cells": [
    {
      "cell_type": "markdown",
      "metadata": {
        "id": "view-in-github",
        "colab_type": "text"
      },
      "source": [
        "<a href=\"https://colab.research.google.com/github/fjpa121197/DataScienceDM/blob/master/Concepts_Exploration.ipynb\" target=\"_parent\"><img src=\"https://colab.research.google.com/assets/colab-badge.svg\" alt=\"Open In Colab\"/></a>"
      ]
    },
    {
      "cell_type": "code",
      "metadata": {
        "id": "wsp16GMQ3XXA",
        "colab_type": "code",
        "colab": {
          "base_uri": "https://localhost:8080/",
          "height": 34
        },
        "outputId": "8ff9b328-925c-4f7e-d378-7cad07269096"
      },
      "source": [
        "import os\n",
        "os.environ['KAGGLE_USERNAME'] = \"fjpa121197\" # username from the json file\n",
        "os.environ['KAGGLE_KEY'] = \"1e5aa0b814add213af2baaab63e5b18a\" # key from the json file\n",
        "!kaggle datasets download -d fjpa121197/imageclef-concepts-train # api copied from kaggle"
      ],
      "execution_count": 33,
      "outputs": [
        {
          "output_type": "stream",
          "text": [
            "imageclef-concepts-train.zip: Skipping, found more recently modified local copy (use --force to force download)\n"
          ],
          "name": "stdout"
        }
      ]
    },
    {
      "cell_type": "code",
      "metadata": {
        "id": "94Ly-o4-4Y7x",
        "colab_type": "code",
        "colab": {
          "base_uri": "https://localhost:8080/",
          "height": 34
        },
        "outputId": "95b1f65e-45de-4d2a-f09a-dc3d080fa1b7"
      },
      "source": [
        "# Upload data\n",
        "from zipfile import ZipFile\n",
        "\n",
        "file_name = \"/content/imageclef-concepts-train.zip\"\n",
        "\n",
        "with ZipFile(file_name, 'r') as zip:\n",
        "  zip.extractall()\n",
        "  print('done')"
      ],
      "execution_count": 34,
      "outputs": [
        {
          "output_type": "stream",
          "text": [
            "done\n"
          ],
          "name": "stdout"
        }
      ]
    },
    {
      "cell_type": "code",
      "metadata": {
        "id": "TpB8lzIZAq3y",
        "colab_type": "code",
        "colab": {}
      },
      "source": [
        "def CountFrequency(my_list): \n",
        "    # Creating an empty dictionary  \n",
        "    freq = {} \n",
        "    for item in my_list: \n",
        "        if (item in freq): \n",
        "            freq[item] += 1\n",
        "        else: \n",
        "            freq[item] = 1\n",
        "\n",
        "    return freq"
      ],
      "execution_count": 0,
      "outputs": []
    },
    {
      "cell_type": "code",
      "metadata": {
        "id": "qi8hCmEbP3AD",
        "colab_type": "code",
        "colab": {}
      },
      "source": [
        "def extract_concepts(name):\n",
        "  concepts = []\n",
        "  base_dir = '/content/Train_concepts'\n",
        "  path = os.path.join(base_dir,name+\"_CLEF_Train.csv\")\n",
        "  print(path)\n",
        "  with open(path, \"r\") as f:\n",
        "    reader = csv.reader(f, delimiter=\",\")\n",
        "    for i, line in enumerate(reader):\n",
        "        for idx, concept in enumerate(line):\n",
        "          if idx != 0:\n",
        "            concepts.append(concept)\n",
        "  concepts_dict = CountFrequency(concepts)\n",
        "  return concepts_dict"
      ],
      "execution_count": 0,
      "outputs": []
    },
    {
      "cell_type": "code",
      "metadata": {
        "id": "6YGUWeqB4hIO",
        "colab_type": "code",
        "colab": {
          "base_uri": "https://localhost:8080/",
          "height": 136
        },
        "outputId": "85ffb3d9-483f-4f1d-a3c2-74a7d53bc63d"
      },
      "source": [
        "import csv\n",
        "##Do it for DRAN images\n",
        "dran_dict = extract_concepts(\"DRAN\")\n",
        "drco_dict = extract_concepts(\"DRCO\")\n",
        "drct_dict = extract_concepts(\"DRCT\")\n",
        "drmr_dict = extract_concepts(\"DRMR\")\n",
        "drpe_dict = extract_concepts(\"DRPE\")\n",
        "drus_dict = extract_concepts(\"DRUS\")\n",
        "drxr_dict = extract_concepts(\"DRXR\")"
      ],
      "execution_count": 40,
      "outputs": [
        {
          "output_type": "stream",
          "text": [
            "/content/Train_concepts/DRAN_CLEF_Train.csv\n",
            "/content/Train_concepts/DRCO_CLEF_Train.csv\n",
            "/content/Train_concepts/DRCT_CLEF_Train.csv\n",
            "/content/Train_concepts/DRMR_CLEF_Train.csv\n",
            "/content/Train_concepts/DRPE_CLEF_Train.csv\n",
            "/content/Train_concepts/DRUS_CLEF_Train.csv\n",
            "/content/Train_concepts/DRXR_CLEF_Train.csv\n"
          ],
          "name": "stdout"
        }
      ]
    },
    {
      "cell_type": "code",
      "metadata": {
        "id": "dHw-Q_qZTsSU",
        "colab_type": "code",
        "colab": {
          "base_uri": "https://localhost:8080/",
          "height": 34
        },
        "outputId": "6f49fd13-e786-465a-aa3b-95adc47821ee"
      },
      "source": [
        "print(\"The number of unique concepts is:\",len(dran_dict.keys()) + len(drco_dict.keys()) + len(drmr_dict.keys()) + len(drpe_dict.keys()) + len(drxr_dict.keys()))"
      ],
      "execution_count": 85,
      "outputs": [
        {
          "output_type": "stream",
          "text": [
            "The number of unique concepts is: 11710\n"
          ],
          "name": "stdout"
        }
      ]
    },
    {
      "cell_type": "code",
      "metadata": {
        "id": "TDL29JhTBQLD",
        "colab_type": "code",
        "colab": {
          "base_uri": "https://localhost:8080/",
          "height": 34
        },
        "outputId": "fd9ce3e3-45f9-4065-a3b3-aa9267d7ec27"
      },
      "source": [
        "print(\"Out of the 11710 unique concepts in all dictionaries, the number of common unique concepts (union) is:\",\n",
        "len(dran_dict.keys() & drco_dict.keys() & drct_dict.keys() &drmr_dict.keys()& drpe_dict.keys() & drus_dict.keys() & drxr_dict.keys()))"
      ],
      "execution_count": 84,
      "outputs": [
        {
          "output_type": "stream",
          "text": [
            "Out of the 11710 unique concepts in all dictionaries, the number of common unique concepts (union) is: 954\n"
          ],
          "name": "stdout"
        }
      ]
    },
    {
      "cell_type": "code",
      "metadata": {
        "id": "1LMR8J5KSLfn",
        "colab_type": "code",
        "colab": {}
      },
      "source": [
        ""
      ],
      "execution_count": 0,
      "outputs": []
    }
  ]
}