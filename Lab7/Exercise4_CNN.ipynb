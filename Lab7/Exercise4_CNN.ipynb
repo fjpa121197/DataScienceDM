{
  "nbformat": 4,
  "nbformat_minor": 0,
  "metadata": {
    "colab": {
      "name": "Exercise4_CNN.ipynb",
      "provenance": [],
      "include_colab_link": true
    },
    "kernelspec": {
      "name": "python3",
      "display_name": "Python 3"
    },
    "accelerator": "GPU"
  },
  "cells": [
    {
      "cell_type": "markdown",
      "metadata": {
        "id": "view-in-github",
        "colab_type": "text"
      },
      "source": [
        "<a href=\"https://colab.research.google.com/github/fjpa121197/DataScienceDM/blob/master/Lab7/Exercise4_CNN.ipynb\" target=\"_parent\"><img src=\"https://colab.research.google.com/assets/colab-badge.svg\" alt=\"Open In Colab\"/></a>"
      ]
    },
    {
      "cell_type": "code",
      "metadata": {
        "id": "YmXSOc0tZIGA",
        "colab_type": "code",
        "outputId": "c9452f6b-0181-4348-9d25-81fff709c6ce",
        "colab": {
          "base_uri": "https://localhost:8080/",
          "height": 54
        }
      },
      "source": [
        "import os\n",
        "os.environ['KAGGLE_USERNAME'] = \"fjpa121197\" # username from the json file\n",
        "os.environ['KAGGLE_KEY'] = \"1e5aa0b814add213af2baaab63e5b18a\" # key from the json file\n",
        "!kaggle datasets download -d arunrk7/surface-crack-detection # api copied from kaggle"
      ],
      "execution_count": 15,
      "outputs": [
        {
          "output_type": "stream",
          "text": [
            "surface-crack-detection.zip: Skipping, found more recently modified local copy (use --force to force download)\n"
          ],
          "name": "stdout"
        }
      ]
    },
    {
      "cell_type": "markdown",
      "metadata": {
        "id": "wv7ofVHjm09p",
        "colab_type": "text"
      },
      "source": [
        "Got the data from: https://www.kaggle.com/arunrk7/surface-crack-detection\n"
      ]
    },
    {
      "cell_type": "code",
      "metadata": {
        "id": "PiwIL8d1n7eS",
        "colab_type": "code",
        "outputId": "b86f43ed-3a91-4fb7-b492-6a998d17dbfc",
        "colab": {
          "base_uri": "https://localhost:8080/",
          "height": 34
        }
      },
      "source": [
        "# Upload data\n",
        "from zipfile import ZipFile\n",
        "\n",
        "file_name = \"/content/surface-crack-detection.zip\"\n",
        "\n",
        "with ZipFile(file_name, 'r') as zip:\n",
        "  zip.extractall()\n",
        "  print('done')"
      ],
      "execution_count": 16,
      "outputs": [
        {
          "output_type": "stream",
          "text": [
            "done\n"
          ],
          "name": "stdout"
        }
      ]
    },
    {
      "cell_type": "code",
      "metadata": {
        "id": "sa2Bj5i7pPKV",
        "colab_type": "code",
        "outputId": "c3106af5-5e1a-4a48-d1f7-52370a72e2fb",
        "colab": {
          "base_uri": "https://localhost:8080/",
          "height": 34
        }
      },
      "source": [
        "data_dir_list = os.listdir('/content/Positive')\n",
        "#print(data_dir_list)\n",
        "\n",
        "path, dirs, files = next(os.walk('/content/Positive'))\n",
        "file_count = len(files)\n",
        "print(file_count)"
      ],
      "execution_count": 17,
      "outputs": [
        {
          "output_type": "stream",
          "text": [
            "20000\n"
          ],
          "name": "stdout"
        }
      ]
    },
    {
      "cell_type": "code",
      "metadata": {
        "id": "0ERlHkfHqpK8",
        "colab_type": "code",
        "colab": {}
      },
      "source": [
        "original_dataset_dirp = '/content/Positive'\n",
        "original_dataset_dirn = '/content/Negative'\n",
        "base_dir = '/content/positive_and_negative'\n",
        "#os.mkdir(base_dir)"
      ],
      "execution_count": 0,
      "outputs": []
    },
    {
      "cell_type": "code",
      "metadata": {
        "id": "AANB1UJ6rQhM",
        "colab_type": "code",
        "colab": {}
      },
      "source": [
        "train_dir = os.path.join(base_dir, 'train')\n",
        "os.mkdir(train_dir)\n",
        "\n",
        "validation_dir = os.path.join(base_dir, 'validation')\n",
        "os.mkdir(validation_dir)\n",
        "\n",
        "test_dir = os.path.join(base_dir, 'test')\n",
        "os.mkdir(test_dir)\n",
        "\n",
        "train_positive_dir = os.path.join(train_dir, 'positive')\n",
        "os.mkdir(train_cats_dir)\n",
        "\n",
        "train_negative_dir = os.path.join(train_dir, 'negative')\n",
        "os.mkdir(train_negative_dir)\n",
        "\n",
        "validation_positive_dir = os.path.join(validation_dir, 'positive')\n",
        "os.mkdir(validation_positive_dir)\n",
        "\n",
        "validation_negative_dir = os.path.join(validation_dir, 'negative')\n",
        "os.mkdir(validation_negative_dir)\n",
        "\n",
        "test_positive_dir = os.path.join(test_dir, 'positive')\n",
        "os.mkdir(test_positive_dir)\n",
        "\n",
        "test_negative_dir = os.path.join(test_dir, 'negative')\n",
        "os.mkdir(test_negative_dir)"
      ],
      "execution_count": 0,
      "outputs": []
    },
    {
      "cell_type": "code",
      "metadata": {
        "id": "5uNput2KYigw",
        "colab_type": "code",
        "colab": {}
      },
      "source": [
        ""
      ],
      "execution_count": 0,
      "outputs": []
    },
    {
      "cell_type": "code",
      "metadata": {
        "id": "ULRgL9s9rV8T",
        "colab_type": "code",
        "colab": {}
      },
      "source": [
        "import shutil\n",
        "fnames = []\n",
        "\n",
        "for i in range(1,1001):\n",
        "  if i < 10:\n",
        "    name = '0000{}.jpg'.format(i)\n",
        "    fnames.append(name)\n",
        "  if i >= 10 and i <100:\n",
        "    name = '000{}.jpg'.format(i)\n",
        "    fnames.append(name)\n",
        "  if i >=100 and i < 1000:\n",
        "    name = '00{}.jpg'.format(i)\n",
        "    fnames.append(name)\n",
        "  if i >= 1000:\n",
        "    name = '0{}.jpg'.format(i)\n",
        "    fnames.append(name)\n",
        "\n",
        "for fname in fnames:\n",
        "    src = os.path.join(original_dataset_dirp, fname)\n",
        "    dst = os.path.join(train_positive_dir, fname)\n",
        "    #print(src,dst)\n",
        "    shutil.copyfile(src, dst)\n",
        "    \n",
        "fnames = ['0{}.jpg'.format(i) for i in range(1001, 1500)]\n",
        "for fname in fnames:\n",
        "    src = os.path.join(original_dataset_dirp, fname)\n",
        "    dst = os.path.join(validation_positive_dir, fname)\n",
        "    shutil.copyfile(src, dst)\n",
        "\n",
        "fnames = ['0{}.jpg'.format(i) for i in range(1500, 2000)]\n",
        "for fname in fnames:\n",
        "    src = os.path.join(original_dataset_dirp, fname)\n",
        "    dst = os.path.join(test_positive_dir, fname)\n",
        "    shutil.copyfile(src, dst)\n",
        "\n",
        "fnames = []\n",
        "for i in range(1,1001):\n",
        "  if i < 10:\n",
        "    name = '0000{}.jpg'.format(i)\n",
        "    fnames.append(name)\n",
        "  if i >= 10 and i <100:\n",
        "    name = '000{}.jpg'.format(i)\n",
        "    fnames.append(name)\n",
        "  if i >=100 and i < 1000:\n",
        "    name = '00{}.jpg'.format(i)\n",
        "    fnames.append(name)\n",
        "  if i >= 1000:\n",
        "    name = '0{}.jpg'.format(i)\n",
        "    fnames.append(name)\n",
        "\n",
        "for fname in fnames:\n",
        "    src = os.path.join(original_dataset_dirn, fname)\n",
        "    dst = os.path.join(train_negative_dir, fname)\n",
        "    shutil.copyfile(src, dst)\n",
        "\n",
        "fnames = ['0{}.jpg'.format(i) for i in range(1001, 1500)]\n",
        "for fname in fnames:\n",
        "    src = os.path.join(original_dataset_dirn, fname)\n",
        "    dst = os.path.join(validation_negative_dir, fname)\n",
        "    shutil.copyfile(src, dst)\n",
        "\n",
        "fnames = ['0{}.jpg'.format(i) for i in range(1500, 2000)]\n",
        "for fname in fnames:\n",
        "    src = os.path.join(original_dataset_dirn, fname)\n",
        "    dst = os.path.join(test_negative_dir, fname)\n",
        "    shutil.copyfile(src, dst)"
      ],
      "execution_count": 0,
      "outputs": []
    },
    {
      "cell_type": "code",
      "metadata": {
        "id": "ul3XAbIyr7vC",
        "colab_type": "code",
        "outputId": "ac27cae2-de3a-4c31-885f-1c7ee3ead787",
        "colab": {
          "base_uri": "https://localhost:8080/",
          "height": 119
        }
      },
      "source": [
        "print('total training positive images:', len(os.listdir(train_positive_dir)))\n",
        "print('total training negative images:', len(os.listdir(train_negative_dir)))\n",
        "print('total validation positive images:', len(os.listdir(validation_positive_dir)))\n",
        "\n",
        "print('total validation negative images:', len(os.listdir(validation_negative_dir)))\n",
        "print('total test positive images:', len(os.listdir(test_positive_dir)))\n",
        "print('total test negative images:', len(os.listdir(test_negative_dir)))"
      ],
      "execution_count": 28,
      "outputs": [
        {
          "output_type": "stream",
          "text": [
            "total training cat images: 1000\n",
            "total training dog images: 1000\n",
            "total validation cat images: 499\n",
            "total validation dog images: 499\n",
            "total test cat images: 500\n",
            "total test dog images: 500\n"
          ],
          "name": "stdout"
        }
      ]
    },
    {
      "cell_type": "code",
      "metadata": {
        "id": "o9yTA21_r-ma",
        "colab_type": "code",
        "outputId": "14f956fb-8c58-4f16-cb94-b039656529dd",
        "colab": {
          "base_uri": "https://localhost:8080/",
          "height": 763
        }
      },
      "source": [
        "from keras import layers\n",
        "from keras import models\n",
        "\n",
        "model = models.Sequential()\n",
        "model.add(layers.Conv2D(32, (3, 3), activation='relu', input_shape=(150, 150, 3)))\n",
        "model.add(layers.MaxPooling2D((2, 2)))\n",
        "model.add(layers.Conv2D(64, (3, 3), activation='relu'))\n",
        "model.add(layers.MaxPooling2D((2, 2)))\n",
        "model.add(layers.Conv2D(128, (3, 3), activation='relu'))\n",
        "model.add(layers.MaxPooling2D((2, 2)))\n",
        "model.add(layers.Conv2D(128, (3, 3), activation='relu'))\n",
        "model.add(layers.MaxPooling2D((2, 2)))\n",
        "model.add(layers.Flatten())\n",
        "model.add(layers.Dense(512, activation='relu'))\n",
        "model.add(layers.Dense(1, activation='sigmoid'))\n",
        "model.summary()"
      ],
      "execution_count": 29,
      "outputs": [
        {
          "output_type": "stream",
          "text": [
            "Using TensorFlow backend.\n"
          ],
          "name": "stderr"
        },
        {
          "output_type": "display_data",
          "data": {
            "text/html": [
              "<p style=\"color: red;\">\n",
              "The default version of TensorFlow in Colab will soon switch to TensorFlow 2.x.<br>\n",
              "We recommend you <a href=\"https://www.tensorflow.org/guide/migrate\" target=\"_blank\">upgrade</a> now \n",
              "or ensure your notebook will continue to use TensorFlow 1.x via the <code>%tensorflow_version 1.x</code> magic:\n",
              "<a href=\"https://colab.research.google.com/notebooks/tensorflow_version.ipynb\" target=\"_blank\">more info</a>.</p>\n"
            ],
            "text/plain": [
              "<IPython.core.display.HTML object>"
            ]
          },
          "metadata": {
            "tags": []
          }
        },
        {
          "output_type": "stream",
          "text": [
            "WARNING:tensorflow:From /usr/local/lib/python3.6/dist-packages/keras/backend/tensorflow_backend.py:66: The name tf.get_default_graph is deprecated. Please use tf.compat.v1.get_default_graph instead.\n",
            "\n",
            "WARNING:tensorflow:From /usr/local/lib/python3.6/dist-packages/keras/backend/tensorflow_backend.py:541: The name tf.placeholder is deprecated. Please use tf.compat.v1.placeholder instead.\n",
            "\n",
            "WARNING:tensorflow:From /usr/local/lib/python3.6/dist-packages/keras/backend/tensorflow_backend.py:4432: The name tf.random_uniform is deprecated. Please use tf.random.uniform instead.\n",
            "\n",
            "WARNING:tensorflow:From /usr/local/lib/python3.6/dist-packages/keras/backend/tensorflow_backend.py:4267: The name tf.nn.max_pool is deprecated. Please use tf.nn.max_pool2d instead.\n",
            "\n",
            "Model: \"sequential_1\"\n",
            "_________________________________________________________________\n",
            "Layer (type)                 Output Shape              Param #   \n",
            "=================================================================\n",
            "conv2d_1 (Conv2D)            (None, 148, 148, 32)      896       \n",
            "_________________________________________________________________\n",
            "max_pooling2d_1 (MaxPooling2 (None, 74, 74, 32)        0         \n",
            "_________________________________________________________________\n",
            "conv2d_2 (Conv2D)            (None, 72, 72, 64)        18496     \n",
            "_________________________________________________________________\n",
            "max_pooling2d_2 (MaxPooling2 (None, 36, 36, 64)        0         \n",
            "_________________________________________________________________\n",
            "conv2d_3 (Conv2D)            (None, 34, 34, 128)       73856     \n",
            "_________________________________________________________________\n",
            "max_pooling2d_3 (MaxPooling2 (None, 17, 17, 128)       0         \n",
            "_________________________________________________________________\n",
            "conv2d_4 (Conv2D)            (None, 15, 15, 128)       147584    \n",
            "_________________________________________________________________\n",
            "max_pooling2d_4 (MaxPooling2 (None, 7, 7, 128)         0         \n",
            "_________________________________________________________________\n",
            "flatten_1 (Flatten)          (None, 6272)              0         \n",
            "_________________________________________________________________\n",
            "dense_1 (Dense)              (None, 512)               3211776   \n",
            "_________________________________________________________________\n",
            "dense_2 (Dense)              (None, 1)                 513       \n",
            "=================================================================\n",
            "Total params: 3,453,121\n",
            "Trainable params: 3,453,121\n",
            "Non-trainable params: 0\n",
            "_________________________________________________________________\n"
          ],
          "name": "stdout"
        }
      ]
    },
    {
      "cell_type": "code",
      "metadata": {
        "id": "2mG8wekxsBVS",
        "colab_type": "code",
        "outputId": "9dd989c3-8ead-462d-c485-20cb6d0433b5",
        "colab": {
          "base_uri": "https://localhost:8080/",
          "height": 156
        }
      },
      "source": [
        "from keras import optimizers\n",
        "model.compile(loss='binary_crossentropy', \n",
        "              optimizer=optimizers.RMSprop(lr=1e-4),\n",
        "              metrics=['acc'])"
      ],
      "execution_count": 30,
      "outputs": [
        {
          "output_type": "stream",
          "text": [
            "WARNING:tensorflow:From /usr/local/lib/python3.6/dist-packages/keras/optimizers.py:793: The name tf.train.Optimizer is deprecated. Please use tf.compat.v1.train.Optimizer instead.\n",
            "\n",
            "WARNING:tensorflow:From /usr/local/lib/python3.6/dist-packages/keras/backend/tensorflow_backend.py:3657: The name tf.log is deprecated. Please use tf.math.log instead.\n",
            "\n",
            "WARNING:tensorflow:From /usr/local/lib/python3.6/dist-packages/tensorflow_core/python/ops/nn_impl.py:183: where (from tensorflow.python.ops.array_ops) is deprecated and will be removed in a future version.\n",
            "Instructions for updating:\n",
            "Use tf.where in 2.0, which has the same broadcast rule as np.where\n"
          ],
          "name": "stdout"
        }
      ]
    },
    {
      "cell_type": "markdown",
      "metadata": {
        "id": "7zS4Klm8qWp6",
        "colab_type": "text"
      },
      "source": [
        "## Using ImageDataGenerator to read images from directories\n",
        "As you know by now, data should be formatted into appropriately preprocessed floatingpoint tensors before being fed into the network. Currently, the data sits on a drive as JPEG files, so the steps for getting it into the network are roughly as follows:\n",
        "\n",
        "* Read the picture files.\n",
        "* Decode the JPEG content to RGB grids of pixels.\n",
        "* Convert these into floating-point tensors.\n",
        "* Rescale the pixel values (between 0 and 255) to the [0, 1] interval (as you know, neural networks prefer to deal with small input values).\n",
        "\n",
        "It may seem a bit daunting, but fortunately Keras has utilities to take care of these steps automatically. Keras has a module with image-processing helper tools, located at keras.preprocessing.image. In particular, it contains the class ImageDataGenerator,which lets you quickly set up Python generators that can automatically turn image files on disk into batches of preprocessed tensors."
      ]
    },
    {
      "cell_type": "code",
      "metadata": {
        "id": "XJ7XU7t9sEh6",
        "colab_type": "code",
        "outputId": "700892f1-9096-490e-f793-dc0dba8324ec",
        "colab": {
          "base_uri": "https://localhost:8080/",
          "height": 51
        }
      },
      "source": [
        "from keras.preprocessing.image import ImageDataGenerator\n",
        "\n",
        "train_datagen = ImageDataGenerator(rescale=1./255)\n",
        "test_datagen = ImageDataGenerator(rescale=1./255)\n",
        "\n",
        "train_generator = train_datagen.flow_from_directory(train_dir,\n",
        "                                                    target_size=(150, 150), \n",
        "                                                    batch_size=20,\n",
        "                                                    class_mode='binary')\n",
        "\n",
        "validation_generator = test_datagen.flow_from_directory(validation_dir,\n",
        "                                                        target_size=(150, 150),\n",
        "                                                        batch_size=20,\n",
        "                                                        class_mode='binary')"
      ],
      "execution_count": 31,
      "outputs": [
        {
          "output_type": "stream",
          "text": [
            "Found 2000 images belonging to 2 classes.\n",
            "Found 998 images belonging to 2 classes.\n"
          ],
          "name": "stdout"
        }
      ]
    },
    {
      "cell_type": "markdown",
      "metadata": {
        "id": "SEgLywySqm4u",
        "colab_type": "text"
      },
      "source": [
        "Let’s fit the model to the data using the generator. You do so using the fit_generator method, the equivalent of fit for data generators like this one. It expects as its first argument a Python generator that will yield batches of inputs and targets indefinitely,like this one does. Because the data is being generated endlessly, the Keras model needs to know how many samples to draw from the generator before declaring anepoch over. This is the role of the `steps_per_epoch` argument: after having drawn `steps_per_epoch` batches from the generator—that is, after having run for `steps_per_epoch` gradient descent steps—the fitting process will go to the next epoch. In this case, batches are 20 samples, so it will take 100 batches until you see your target of 2,000 samples.\n",
        "\n",
        "When using fit_generator, you can pass a validation_data argument, much as with the fit method. It’s important to note that this argument is allowed to be a data generator, but it could also be a tuple of Numpy arrays. If you pass a generator as validation_data, then this generator is expected to yield batches of validation data endlessly; thus you should also specify the validation_steps argument, which tells the process how many batches to draw from the validation generator for evaluation."
      ]
    },
    {
      "cell_type": "code",
      "metadata": {
        "id": "yMyfPphJsJG6",
        "colab_type": "code",
        "outputId": "ce5d9839-8d45-4900-c3ab-8f594b1c0f0f",
        "colab": {
          "base_uri": "https://localhost:8080/",
          "height": 1000
        }
      },
      "source": [
        "history = model.fit_generator(train_generator,\n",
        "                              steps_per_epoch=100,\n",
        "                              epochs=30,\n",
        "                              validation_data=validation_generator,\n",
        "                              validation_steps=10)"
      ],
      "execution_count": 32,
      "outputs": [
        {
          "output_type": "stream",
          "text": [
            "WARNING:tensorflow:From /usr/local/lib/python3.6/dist-packages/keras/backend/tensorflow_backend.py:1033: The name tf.assign_add is deprecated. Please use tf.compat.v1.assign_add instead.\n",
            "\n",
            "WARNING:tensorflow:From /usr/local/lib/python3.6/dist-packages/keras/backend/tensorflow_backend.py:1020: The name tf.assign is deprecated. Please use tf.compat.v1.assign instead.\n",
            "\n",
            "WARNING:tensorflow:From /usr/local/lib/python3.6/dist-packages/keras/backend/tensorflow_backend.py:3005: The name tf.Session is deprecated. Please use tf.compat.v1.Session instead.\n",
            "\n",
            "Epoch 1/30\n",
            "WARNING:tensorflow:From /usr/local/lib/python3.6/dist-packages/keras/backend/tensorflow_backend.py:190: The name tf.get_default_session is deprecated. Please use tf.compat.v1.get_default_session instead.\n",
            "\n",
            "WARNING:tensorflow:From /usr/local/lib/python3.6/dist-packages/keras/backend/tensorflow_backend.py:197: The name tf.ConfigProto is deprecated. Please use tf.compat.v1.ConfigProto instead.\n",
            "\n",
            "WARNING:tensorflow:From /usr/local/lib/python3.6/dist-packages/keras/backend/tensorflow_backend.py:207: The name tf.global_variables is deprecated. Please use tf.compat.v1.global_variables instead.\n",
            "\n",
            "WARNING:tensorflow:From /usr/local/lib/python3.6/dist-packages/keras/backend/tensorflow_backend.py:216: The name tf.is_variable_initialized is deprecated. Please use tf.compat.v1.is_variable_initialized instead.\n",
            "\n",
            "WARNING:tensorflow:From /usr/local/lib/python3.6/dist-packages/keras/backend/tensorflow_backend.py:223: The name tf.variables_initializer is deprecated. Please use tf.compat.v1.variables_initializer instead.\n",
            "\n",
            "100/100 [==============================] - 17s 173ms/step - loss: 0.3286 - acc: 0.8615 - val_loss: 0.1666 - val_acc: 0.9550\n",
            "Epoch 2/30\n",
            "100/100 [==============================] - 3s 31ms/step - loss: 0.0779 - acc: 0.9780 - val_loss: 0.0271 - val_acc: 0.9850\n",
            "Epoch 3/30\n",
            "100/100 [==============================] - 3s 31ms/step - loss: 0.0711 - acc: 0.9815 - val_loss: 0.0739 - val_acc: 0.9750\n",
            "Epoch 4/30\n",
            "100/100 [==============================] - 3s 32ms/step - loss: 0.0585 - acc: 0.9820 - val_loss: 0.0296 - val_acc: 0.9950\n",
            "Epoch 5/30\n",
            "100/100 [==============================] - 3s 31ms/step - loss: 0.0497 - acc: 0.9845 - val_loss: 0.0111 - val_acc: 0.9949\n",
            "Epoch 6/30\n",
            "100/100 [==============================] - 3s 32ms/step - loss: 0.0576 - acc: 0.9840 - val_loss: 0.0654 - val_acc: 0.9800\n",
            "Epoch 7/30\n",
            "100/100 [==============================] - 3s 33ms/step - loss: 0.0413 - acc: 0.9870 - val_loss: 0.0963 - val_acc: 0.9850\n",
            "Epoch 8/30\n",
            "100/100 [==============================] - 3s 32ms/step - loss: 0.0374 - acc: 0.9885 - val_loss: 0.0430 - val_acc: 0.9900\n",
            "Epoch 9/30\n",
            "100/100 [==============================] - 3s 31ms/step - loss: 0.0300 - acc: 0.9890 - val_loss: 0.0115 - val_acc: 0.9950\n",
            "Epoch 10/30\n",
            "100/100 [==============================] - 3s 30ms/step - loss: 0.0333 - acc: 0.9895 - val_loss: 0.0547 - val_acc: 0.9899\n",
            "Epoch 11/30\n",
            "100/100 [==============================] - 3s 31ms/step - loss: 0.0341 - acc: 0.9900 - val_loss: 0.0698 - val_acc: 0.9700\n",
            "Epoch 12/30\n",
            "100/100 [==============================] - 3s 30ms/step - loss: 0.0257 - acc: 0.9900 - val_loss: 0.0255 - val_acc: 0.9900\n",
            "Epoch 13/30\n",
            "100/100 [==============================] - 3s 33ms/step - loss: 0.0261 - acc: 0.9925 - val_loss: 0.0152 - val_acc: 0.9950\n",
            "Epoch 14/30\n",
            "100/100 [==============================] - 3s 31ms/step - loss: 0.0239 - acc: 0.9910 - val_loss: 0.0821 - val_acc: 0.9950\n",
            "Epoch 15/30\n",
            "100/100 [==============================] - 3s 31ms/step - loss: 0.0146 - acc: 0.9950 - val_loss: 0.0296 - val_acc: 0.9899\n",
            "Epoch 16/30\n",
            "100/100 [==============================] - 3s 31ms/step - loss: 0.0276 - acc: 0.9935 - val_loss: 0.0024 - val_acc: 1.0000\n",
            "Epoch 17/30\n",
            "100/100 [==============================] - 3s 31ms/step - loss: 0.0192 - acc: 0.9930 - val_loss: 0.0259 - val_acc: 0.9950\n",
            "Epoch 18/30\n",
            "100/100 [==============================] - 3s 31ms/step - loss: 0.0143 - acc: 0.9945 - val_loss: 0.0966 - val_acc: 0.9850\n",
            "Epoch 19/30\n",
            "100/100 [==============================] - 3s 31ms/step - loss: 0.0224 - acc: 0.9960 - val_loss: 0.0325 - val_acc: 0.9900\n",
            "Epoch 20/30\n",
            "100/100 [==============================] - 3s 32ms/step - loss: 0.0151 - acc: 0.9955 - val_loss: 0.0510 - val_acc: 0.9899\n",
            "Epoch 21/30\n",
            "100/100 [==============================] - 3s 31ms/step - loss: 0.0131 - acc: 0.9955 - val_loss: 0.0527 - val_acc: 0.9900\n",
            "Epoch 22/30\n",
            "100/100 [==============================] - 3s 30ms/step - loss: 0.0132 - acc: 0.9960 - val_loss: 0.0104 - val_acc: 0.9950\n",
            "Epoch 23/30\n",
            "100/100 [==============================] - 3s 31ms/step - loss: 0.0117 - acc: 0.9950 - val_loss: 0.0017 - val_acc: 1.0000\n",
            "Epoch 24/30\n",
            "100/100 [==============================] - 3s 30ms/step - loss: 0.0168 - acc: 0.9960 - val_loss: 0.1044 - val_acc: 0.9900\n",
            "Epoch 25/30\n",
            "100/100 [==============================] - 3s 31ms/step - loss: 0.0108 - acc: 0.9975 - val_loss: 0.0420 - val_acc: 0.9899\n",
            "Epoch 26/30\n",
            "100/100 [==============================] - 3s 32ms/step - loss: 0.0177 - acc: 0.9950 - val_loss: 0.0944 - val_acc: 0.9900\n",
            "Epoch 27/30\n",
            "100/100 [==============================] - 3s 31ms/step - loss: 0.0063 - acc: 0.9980 - val_loss: 1.9351e-04 - val_acc: 1.0000\n",
            "Epoch 28/30\n",
            "100/100 [==============================] - 3s 31ms/step - loss: 0.0031 - acc: 0.9995 - val_loss: 0.0230 - val_acc: 0.9950\n",
            "Epoch 29/30\n",
            "100/100 [==============================] - 3s 30ms/step - loss: 0.0155 - acc: 0.9965 - val_loss: 0.0446 - val_acc: 0.9950\n",
            "Epoch 30/30\n",
            "100/100 [==============================] - 3s 30ms/step - loss: 0.0070 - acc: 0.9975 - val_loss: 0.0573 - val_acc: 0.9848\n"
          ],
          "name": "stdout"
        }
      ]
    },
    {
      "cell_type": "code",
      "metadata": {
        "id": "MZaZ2HWZsNUi",
        "colab_type": "code",
        "outputId": "c20b7fd0-0741-42fa-f3c7-5871826215b6",
        "colab": {
          "base_uri": "https://localhost:8080/",
          "height": 545
        }
      },
      "source": [
        "model.save('positive_and_negative.h5')\n",
        "\n",
        "import matplotlib.pyplot as plt\n",
        "\n",
        "acc = history.history['acc']\n",
        "val_acc = history.history['val_acc']\n",
        "loss = history.history['loss']\n",
        "val_loss = history.history['val_loss']\n",
        "\n",
        "epochs = range(1, len(acc) + 1)\n",
        "\n",
        "plt.plot(epochs, acc, 'bo', label='Training acc')\n",
        "plt.plot(epochs, val_acc, 'b', label='Validation acc')\n",
        "plt.title('Training and validation accuracy')\n",
        "plt.legend()\n",
        "\n",
        "plt.figure()\n",
        "\n",
        "plt.plot(epochs, loss, 'bo', label='Training loss')\n",
        "plt.plot(epochs, val_loss, 'b', label='Validation loss')\n",
        "plt.title('Training and validation loss')\n",
        "plt.legend()\n",
        "\n",
        "plt.show()"
      ],
      "execution_count": 33,
      "outputs": [
        {
          "output_type": "display_data",
          "data": {
            "image/png": "[encoded data removed]",
            "text/plain": [
              "<Figure size 432x288 with 1 Axes>"
            ]
          },
          "metadata": {
            "tags": []
          }
        },
        {
          "output_type": "display_data",
          "data": {
            "image/png": "[encoded data removed]",
            "text/plain": [
              "<Figure size 432x288 with 1 Axes>"
            ]
          },
          "metadata": {
            "tags": []
          }
        }
      ]
    },
    {
      "cell_type": "markdown",
      "metadata": {
        "id": "XKZmXmBcq_8-",
        "colab_type": "text"
      },
      "source": [
        "## Convolutional Networks with Dropout\n",
        "\n",
        "![alt text](https://camo.githubusercontent.com/ee6fa1073247cd2c3d241300caf110d7a7541bc5/68747470733a2f2f63646e2d696d616765732d312e6d656469756d2e636f6d2f6d61782f3830302f312a4972644a355067684439596f4f7956415137334d4a772e676966)\n",
        "\n",
        "Ref: https://github.com/mneha4/Training-Neural-Nets---Guidelines"
      ]
    },
    {
      "cell_type": "code",
      "metadata": {
        "id": "wu3cqeYQrDeN",
        "colab_type": "code",
        "outputId": "e9b4aff1-face-44b6-a279-6365cde9991f",
        "colab": {
          "base_uri": "https://localhost:8080/",
          "height": 122
        }
      },
      "source": [
        "model = models.Sequential()\n",
        "model.add(layers.Conv2D(32, (3, 3), activation='relu',\n",
        "input_shape=(150, 150, 3)))\n",
        "model.add(layers.MaxPooling2D((2, 2)))\n",
        "model.add(layers.Conv2D(64, (3, 3), activation='relu'))\n",
        "model.add(layers.MaxPooling2D((2, 2)))\n",
        "model.add(layers.Conv2D(128, (3, 3), activation='relu'))\n",
        "model.add(layers.MaxPooling2D((2, 2)))\n",
        "model.add(layers.Conv2D(128, (3, 3), activation='relu'))\n",
        "model.add(layers.MaxPooling2D((2, 2)))\n",
        "model.add(layers.Flatten())\n",
        "model.add(layers.Dropout(0.5))\n",
        "model.add(layers.Dense(512, activation='relu'))\n",
        "model.add(layers.Dense(1, activation='sigmoid'))\n",
        "\n",
        "model.compile(loss='binary_crossentropy',\n",
        "              optimizer=optimizers.RMSprop(lr=1e-4),\n",
        "              metrics=['acc'])"
      ],
      "execution_count": 34,
      "outputs": [
        {
          "output_type": "stream",
          "text": [
            "WARNING:tensorflow:From /usr/local/lib/python3.6/dist-packages/keras/backend/tensorflow_backend.py:148: The name tf.placeholder_with_default is deprecated. Please use tf.compat.v1.placeholder_with_default instead.\n",
            "\n",
            "WARNING:tensorflow:From /usr/local/lib/python3.6/dist-packages/keras/backend/tensorflow_backend.py:3733: calling dropout (from tensorflow.python.ops.nn_ops) with keep_prob is deprecated and will be removed in a future version.\n",
            "Instructions for updating:\n",
            "Please use `rate` instead of `keep_prob`. Rate should be set to `rate = 1 - keep_prob`.\n"
          ],
          "name": "stdout"
        }
      ]
    },
    {
      "cell_type": "code",
      "metadata": {
        "id": "QSeLpvY0rH7F",
        "colab_type": "code",
        "outputId": "d26325c7-0de9-4998-e97f-c3861d8ba68e",
        "colab": {
          "base_uri": "https://localhost:8080/",
          "height": 751
        }
      },
      "source": [
        "\n",
        "train_datagen = ImageDataGenerator(rescale=1./255,\n",
        "                                   rotation_range=40,\n",
        "                                   width_shift_range=0.2,\n",
        "                                   height_shift_range=0.2,\n",
        "                                   shear_range=0.2,\n",
        "                                   zoom_range=0.2,\n",
        "                                   horizontal_flip=True,)\n",
        "\n",
        "test_datagen = ImageDataGenerator(rescale=1./255)\n",
        "\n",
        "train_generator = train_datagen.flow_from_directory(train_dir,\n",
        "                                                    target_size=(150, 150),\n",
        "                                                    batch_size=32,\n",
        "                                                    class_mode='binary')\n",
        "\n",
        "validation_generator = test_datagen.flow_from_directory(validation_dir,\n",
        "                                                        target_size=(150, 150),\n",
        "                                                        batch_size=32,\n",
        "                                                        class_mode='binary')\n",
        "\n",
        "history = model.fit_generator(train_generator,\n",
        "                              steps_per_epoch=100,\n",
        "                              epochs=20,\n",
        "                              validation_data=validation_generator,\n",
        "                              validation_steps=50)"
      ],
      "execution_count": 35,
      "outputs": [
        {
          "output_type": "stream",
          "text": [
            "Found 2000 images belonging to 2 classes.\n",
            "Found 998 images belonging to 2 classes.\n",
            "Epoch 1/20\n",
            "100/100 [==============================] - 21s 206ms/step - loss: 0.3434 - acc: 0.8481 - val_loss: 0.0685 - val_acc: 0.9886\n",
            "Epoch 2/20\n",
            "100/100 [==============================] - 20s 201ms/step - loss: 0.0622 - acc: 0.9812 - val_loss: 0.0631 - val_acc: 0.9864\n",
            "Epoch 3/20\n",
            "100/100 [==============================] - 19s 194ms/step - loss: 0.0634 - acc: 0.9806 - val_loss: 0.0445 - val_acc: 0.9898\n",
            "Epoch 4/20\n",
            "100/100 [==============================] - 19s 192ms/step - loss: 0.0636 - acc: 0.9822 - val_loss: 0.0539 - val_acc: 0.9851\n",
            "Epoch 5/20\n",
            "100/100 [==============================] - 19s 190ms/step - loss: 0.0558 - acc: 0.9837 - val_loss: 0.0572 - val_acc: 0.9879\n",
            "Epoch 6/20\n",
            "100/100 [==============================] - 20s 200ms/step - loss: 0.0524 - acc: 0.9863 - val_loss: 0.0912 - val_acc: 0.9800\n",
            "Epoch 7/20\n",
            "100/100 [==============================] - 19s 190ms/step - loss: 0.0571 - acc: 0.9837 - val_loss: 0.0444 - val_acc: 0.9924\n",
            "Epoch 8/20\n",
            "100/100 [==============================] - 20s 198ms/step - loss: 0.0551 - acc: 0.9819 - val_loss: 0.1222 - val_acc: 0.9696\n",
            "Epoch 9/20\n",
            "100/100 [==============================] - 19s 187ms/step - loss: 0.0466 - acc: 0.9850 - val_loss: 0.0591 - val_acc: 0.9897\n",
            "Epoch 10/20\n",
            "100/100 [==============================] - 19s 187ms/step - loss: 0.0534 - acc: 0.9847 - val_loss: 0.1707 - val_acc: 0.9587\n",
            "Epoch 11/20\n",
            "100/100 [==============================] - 19s 191ms/step - loss: 0.0513 - acc: 0.9862 - val_loss: 0.0646 - val_acc: 0.9871\n",
            "Epoch 12/20\n",
            "100/100 [==============================] - 19s 193ms/step - loss: 0.0409 - acc: 0.9878 - val_loss: 0.0460 - val_acc: 0.9905\n",
            "Epoch 13/20\n",
            "100/100 [==============================] - 19s 189ms/step - loss: 0.0520 - acc: 0.9847 - val_loss: 0.0686 - val_acc: 0.9851\n",
            "Epoch 14/20\n",
            "100/100 [==============================] - 19s 188ms/step - loss: 0.0359 - acc: 0.9897 - val_loss: 0.0879 - val_acc: 0.9771\n",
            "Epoch 15/20\n",
            "100/100 [==============================] - 19s 192ms/step - loss: 0.0459 - acc: 0.9881 - val_loss: 0.0357 - val_acc: 0.9922\n",
            "Epoch 16/20\n",
            "100/100 [==============================] - 19s 186ms/step - loss: 0.0428 - acc: 0.9866 - val_loss: 0.0556 - val_acc: 0.9884\n",
            "Epoch 17/20\n",
            "100/100 [==============================] - 18s 180ms/step - loss: 0.0366 - acc: 0.9900 - val_loss: 0.2049 - val_acc: 0.9568\n",
            "Epoch 18/20\n",
            "100/100 [==============================] - 20s 204ms/step - loss: 0.0470 - acc: 0.9878 - val_loss: 0.0391 - val_acc: 0.9929\n",
            "Epoch 19/20\n",
            "100/100 [==============================] - 19s 187ms/step - loss: 0.0379 - acc: 0.9884 - val_loss: 0.0627 - val_acc: 0.9867\n",
            "Epoch 20/20\n",
            "100/100 [==============================] - 19s 191ms/step - loss: 0.0376 - acc: 0.9887 - val_loss: 0.0674 - val_acc: 0.9851\n"
          ],
          "name": "stdout"
        }
      ]
    },
    {
      "cell_type": "code",
      "metadata": {
        "id": "oXj5d_d7IB3w",
        "colab_type": "code",
        "colab": {}
      },
      "source": [
        ""
      ],
      "execution_count": 0,
      "outputs": []
    }
  ]
}